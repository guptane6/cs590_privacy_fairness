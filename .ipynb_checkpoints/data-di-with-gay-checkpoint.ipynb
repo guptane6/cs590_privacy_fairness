{
 "cells": [
  {
   "cell_type": "markdown",
   "metadata": {},
   "source": [
    "Note: Much of this code was lifted from [the Conversation AI project](https://conversationai.github.io/). In this file, instead of using max DI I want to do each of the DIs against gay and basically plot a bunch of lines on the same axis, di of input and di of output but one line for white, one line for black, one line for jewish etc"
   ]
  },
  {
   "cell_type": "code",
   "execution_count": 1,
   "metadata": {},
   "outputs": [],
   "source": [
    "import pandas as pd\n",
    "import numpy as np\n",
    "from sklearn.pipeline import Pipeline\n",
    "from sklearn.feature_extraction.text import CountVectorizer\n",
    "from sklearn.feature_extraction.text import TfidfTransformer\n",
    "from sklearn.linear_model import LogisticRegression\n",
    "from sklearn.metrics import roc_auc_score\n",
    "import model_bias_analysis\n",
    "import matplotlib.pyplot as plt"
   ]
  },
  {
   "cell_type": "markdown",
   "metadata": {},
   "source": [
    "Read TSVs from file. These are the original data from *Conversation AI*."
   ]
  },
  {
   "cell_type": "code",
   "execution_count": 2,
   "metadata": {},
   "outputs": [],
   "source": [
    "THRESHOLD_BINARY_TOXICITY = 0.5\n",
    "\n",
    "def read_files():\n",
    "    comments = pd.read_csv(\"toxicity_annotated_comments.tsv\"\\\n",
    "                                          , sep = \"\\t\")\n",
    "    annotations = pd.read_csv(\"toxicity_annotations.tsv\"\\\n",
    "                                          , sep = \"\\t\")\n",
    "    # toxicity_worker_demographics = pd.read_csv(\"toxicity_worker_demographics.tsv\"\\\n",
    "#                                           , sep = \"\\t\")\n",
    "    grouped_annotations = annotations.groupby('rev_id',as_index=False)['toxicity'].mean()\n",
    "    joined_tox = grouped_annotations.join(comments, lsuffix='rev_id', rsuffix='rev_id', how='left', sort=True) \n",
    "    joined_tox['binary_tox'] = np.where(joined_tox['toxicity']>=THRESHOLD_BINARY_TOXICITY, 1, 0)\n",
    "    \n",
    "    # remove newline and tab tokens\n",
    "    joined_tox['comment'] = joined_tox.comment.apply(lambda x: x.replace('NEWLINE_TOKEN', '').replace('TAB_TOKEN', ''))\n",
    "    joined_tox['len_comment'] = joined_tox.comment.apply(lambda x: len(x))\n",
    "    \n",
    "    return joined_tox\n"
   ]
  },
  {
   "cell_type": "code",
   "execution_count": 3,
   "metadata": {},
   "outputs": [],
   "source": [
    "def split_test_train(joined_tox):\n",
    "    test_comments = joined_tox.query(\"split == 'test' \")\n",
    "    train_comments = joined_tox.query(\"split == 'train' \")\n",
    "    \n",
    "    return test_comments, train_comments"
   ]
  },
  {
   "cell_type": "code",
   "execution_count": 4,
   "metadata": {},
   "outputs": [],
   "source": [
    "def add_identity_terms(test_comments, train_comments):\n",
    "\n",
    "    # Currently not in use, but possibly we'll switch to use this later\n",
    "\n",
    "    # TEST_TERMS = ['tall', 'wikipedia', 'teacher', 'music', 'box',\n",
    "    #               'lesbian', 'gay', 'bisexual', 'transgender', 'queer',\n",
    "    #               'homosexual', 'heterosexual', 'straight',\n",
    "    #               'muslim', 'jewish', 'jew', 'christian',\n",
    "    #               'feminist', 'black', 'white']\n",
    "\n",
    "    madlibs_terms = model_bias_analysis.read_identity_terms('adjectives_people.txt')\n",
    "\n",
    "    # Add identity labels to train and test comments\n",
    "    model_bias_analysis.add_subgroup_columns_from_text(train_comments, 'comment', madlibs_terms)\n",
    "    model_bias_analysis.add_subgroup_columns_from_text(test_comments, 'comment', madlibs_terms)\n",
    "    \n",
    "    return madlibs_terms"
   ]
  },
  {
   "cell_type": "markdown",
   "metadata": {},
   "source": [
    "* *grouped_annotations* takes the mean of all toxicity ratings of a comment.\n",
    "* *joined_tox* joins *grouped_annotations* and *comments*.\n",
    "* We also add a column *binary_tox* to the dataframe *joined_tox*. Here we assign a toxicity rating of 0 or 1 based on whether the mean toxicity rating is above or below 0.5 (or other value determined by threshold_binary_toxicity"
   ]
  },
  {
   "cell_type": "code",
   "execution_count": 5,
   "metadata": {},
   "outputs": [],
   "source": [
    "# joined_tox = read_files()\n",
    "# test_comments, train_comments = split_test_train(joined_tox)\n",
    "# madlibs_terms = add_identity_terms(test_comments, train_comments)\n",
    "\n",
    "# This writes the 3 dataframes to csv so that we can read from that later for shorter code.\n",
    "# joined_tox.to_csv('joined_tox.csv')\n",
    "# train_comments.to_csv('train_comments.csv')\n",
    "# test_comments.to_csv('test_comments.csv')\n",
    "\n",
    "# Either use this or the commented-out stuff above. That (above) reads all of the actual files and generates df's\n",
    "# This (below) reads pre-generated df's so that we don't have to run all the 3 functions above each time. \n",
    "\n",
    "joined_tox = pd.read_csv('joined_tox.csv')\n",
    "train_comments = pd.read_csv('train_comments.csv')\n",
    "test_comments = pd.read_csv('test_comments.csv')\n",
    "madlibs_terms = model_bias_analysis.read_identity_terms('adjectives_people.txt')"
   ]
  },
  {
   "cell_type": "code",
   "execution_count": 6,
   "metadata": {},
   "outputs": [],
   "source": [
    "# Data cleaning needed:\n",
    "# What identity terms are we taking out and why? Brandons' initial suggestion was in less than 5% of toxic comments\n",
    "# But we might have to do less than 5% of toxic comments WITH an identity term\n",
    "# I also think it's really important to balance by comment length...but how?\n",
    "\n",
    "# Another thing to check for data cleaning. Are we using the test set determined in the paper?"
   ]
  },
  {
   "cell_type": "code",
   "execution_count": 7,
   "metadata": {},
   "outputs": [
    {
     "data": {
      "text/plain": [
       "Text(0.5,0,'')"
      ]
     },
     "execution_count": 7,
     "metadata": {},
     "output_type": "execute_result"
    },
    {
     "data": {
      "image/png": "[encoded data removed]",
      "text/plain": [
       "<matplotlib.figure.Figure at 0x113808dd8>"
      ]
     },
     "metadata": {},
     "output_type": "display_data"
    }
   ],
   "source": [
    "# Here, I plot how often each identity term appears\n",
    "# Part of the effort to clean the data by ensuring that I don't use words that never appear!\n",
    "\n",
    "num_toxic_train = []\n",
    "num_toxic_test = []\n",
    "\n",
    "training_toxic_rows = train_comments[train_comments[\"binary_tox\"] == 1]\n",
    "test_toxic_rows = test_comments[test_comments[\"binary_tox\"] == 1]\n",
    "\n",
    "for i in range(len(madlibs_terms)):\n",
    "    num_toxic_train.append(training_toxic_rows.iloc[:,11+i].sum())\n",
    "    num_toxic_test.append(test_toxic_rows.iloc[:,11+i].sum())\n",
    "#print(num_toxic_train)\n",
    "#print(num_toxic_test)\n",
    "\n",
    "toxic_appearances = np.add(num_toxic_train, num_toxic_test)\n",
    "# So array element 0 is how often madLibs_terms index 0 appeared in comments that are toxic in both test and training, etc\n",
    "\n",
    "plt.bar(madlibs_terms, toxic_appearances)\n",
    "plt.xticks(rotation=90)\n",
    "plt.xlabel('', fontsize=16)\n",
    "# urgh will need to space this out really hard. Maybe rank it, too. \n",
    "\n"
   ]
  },
  {
   "cell_type": "code",
   "execution_count": 8,
   "metadata": {},
   "outputs": [
    {
     "data": {
      "image/png": "[encoded data removed]",
      "text/plain": [
       "<matplotlib.figure.Figure at 0x10f35b5f8>"
      ]
     },
     "metadata": {},
     "output_type": "display_data"
    }
   ],
   "source": [
    "# This is me taking out the bottom values and making a new graph\n",
    "CUTOFF_THRESHOLD = 0.03\n",
    "\n",
    "sum_toxic_comments = 0\n",
    "for i in toxic_appearances:\n",
    "    sum_toxic_comments += i\n",
    "\n",
    "new_madlibs_terms = []\n",
    "new_toxic_appearances = []\n",
    "for i in range(len(toxic_appearances)):\n",
    "    if (toxic_appearances[i]/sum_toxic_comments) >= CUTOFF_THRESHOLD:\n",
    "        new_madlibs_terms.append(madlibs_terms[i])\n",
    "        new_toxic_appearances.append(toxic_appearances[i])\n",
    "        \n",
    "# So now, new_madlibs_terms is just the words that appear in CUTOFF_THRESHOLD% of toxic comments\n",
    "# And, the corresponding how often they occur is in new_toxic_appearances\n",
    "\n",
    "plt.bar(new_madlibs_terms, new_toxic_appearances)\n",
    "\n",
    "# TAKE THESE OUT IF YOU DON'T WANT TO USE THIS METHODOLOGY OF FILTERING:\n",
    "madlibs_terms = new_madlibs_terms\n",
    "toxic_appearances = new_toxic_appearances"
   ]
  },
  {
   "cell_type": "markdown",
   "metadata": {},
   "source": [
    "Train logistic regression classifier."
   ]
  },
  {
   "cell_type": "markdown",
   "metadata": {},
   "source": [
    "Equation DI:\n",
    "DI(t1,t2) = (probability that comment containing term t1 is labeled toxic) / (probability that comment containing term t2 is labelled toxic)\n",
    "= a/b\n",
    "\n",
    "a = # comments containing t1 AND toxic / # comments containing t1\n",
    "= alpha/beta"
   ]
  },
  {
   "cell_type": "code",
   "execution_count": 9,
   "metadata": {},
   "outputs": [
    {
     "name": "stdout",
     "output_type": "stream",
     "text": [
      "[0.62544803 0.46774194 0.13702624 0.18042813 0.15853659 0.09857978\n",
      " 0.11860465 0.12916667]\n",
      "8\n"
     ]
    }
   ],
   "source": [
    "def calculate_pairwise_di(df, madlibs_terms, colname):\n",
    "    \n",
    "    # We now calculate the DI for each pair for the training data.\n",
    "\n",
    "    term_toxicity = np.zeros(len(madlibs_terms))\n",
    "\n",
    "    # we temporarily put -1 in as a placeholder for stuff that has no exacmples of terms with that term.\n",
    "    # non-binary is one\n",
    "    for i in range(len(madlibs_terms)):\n",
    "        try:\n",
    "            term_toxicity[i] = float((df[(df[madlibs_terms[i]] == True) & (df[colname] == 1)].shape[0]))/  \\\n",
    "            float((df[df[madlibs_terms[i]] == True].shape[0]))\n",
    "        except ZeroDivisionError:\n",
    "            term_toxicity[i] = -1 \n",
    "\n",
    "    return term_toxicity\n",
    "\n",
    "term_toxicity = calculate_pairwise_di(train_comments, madlibs_terms, 'binary_tox')\n",
    "print(term_toxicity)\n",
    "print(len(term_toxicity))\n"
   ]
  },
  {
   "cell_type": "code",
   "execution_count": 10,
   "metadata": {},
   "outputs": [],
   "source": [
    "# This finds the max DI between all pairs of identity terms, which for one of our experiments,\n",
    "# we're claiming is kind of the DI of all terms\n",
    "# Possibly something we'll take out or come back to once we try more versions of our code. (Neha's working on this!)\n",
    "\n",
    "def gay_ratio(term_toxicity, madlibs_terms):\n",
    "    term_vs_gay = []\n",
    "    top_indexes = ()\n",
    "    j = 0 # This is the index of gay\n",
    "    for i in range(len(madlibs_terms)):\n",
    "        if (i==j or term_toxicity[i] == -1 or term_toxicity[j] == -1 or term_toxicity[j] == 0):\n",
    "            term_vs_gay.append(1)\n",
    "        else:\n",
    "            term_vs_gay.append(term_toxicity[i]/ term_toxicity[j])\n",
    "                \n",
    "    return term_vs_gay\n"
   ]
  },
  {
   "cell_type": "code",
   "execution_count": 11,
   "metadata": {},
   "outputs": [],
   "source": [
    "# Calculate max DIs on all of the perturbed training datasets\n",
    "def find_gay_dis(df_comments, list_perturbation, madlibs_terms):\n",
    "    \n",
    "    term_vs_gay_by_pert = []\n",
    "    # So this is a series of ararys.\n",
    "    # one array in this is going to be one perturbation, where each array is t1/gay di, t2/gay di...\n",
    "\n",
    "    for i in range(NUM_PERTURBATIONS):\n",
    "        df_comments['newcol'] = list_perturbation[i]\n",
    "        term_toxicity = calculate_pairwise_di(df_comments, madlibs_terms, 'newcol')\n",
    "        term_vs_gay = gay_ratio(term_toxicity, madlibs_terms)\n",
    "        term_vs_gay_by_pert.append(term_vs_gay)\n",
    "        \n",
    "    # This is the array of all of the max_dis, and the indexes of the madlibs_terms array that composed that max_di\n",
    "    return term_vs_gay_by_pert"
   ]
  },
  {
   "cell_type": "code",
   "execution_count": 12,
   "metadata": {},
   "outputs": [],
   "source": [
    "# Generates perturbations\n",
    "# Basically, creates num_perturbations number of arrays. \n",
    "# Each array is the length of the train_comments\n",
    "# Each item in the array is 0/1 and is PROBABILITY_FLIP flipped from the true value of binary toxicity \n",
    "\n",
    "PROBABILITY_FLIP = 0.75\n",
    "def generate_perturbation_on_training(train_comments, num_perturbations):\n",
    "    \n",
    "    list_perturbation = []\n",
    "\n",
    "    length = len(train_comments.binary_tox.values)\n",
    "    for j in range(num_perturbations):\n",
    "        rand = np.random.random(length) # generate a random number (between 0 and 1) for each comment\n",
    "        tox_tmp = np.copy(train_comments.binary_tox.values) # np.copy(tox_np)\n",
    "        for i in range(length):\n",
    "            if rand[i] >= PROBABILITY_FLIP: # if random number is greater than 0.5, replace value in array with a random integer from [0, 1]\n",
    "                tox_tmp[i] = np.random.randint(2)\n",
    "        list_perturbation.append(tox_tmp)\n",
    "\n",
    "    # each item in list_perturbation is a list of 0s and 1s that correspond to the new binary_tox of each variable\n",
    "    \n",
    "    return list_perturbation"
   ]
  },
  {
   "cell_type": "code",
   "execution_count": 13,
   "metadata": {},
   "outputs": [
    {
     "name": "stdout",
     "output_type": "stream",
     "text": [
      "[array([0, 0, 0, ..., 0, 1, 0]), array([0, 0, 0, ..., 0, 0, 0]), array([0, 0, 0, ..., 0, 0, 0]), array([0, 0, 0, ..., 0, 0, 0]), array([0, 0, 0, ..., 0, 0, 0]), array([0, 0, 0, ..., 0, 0, 0]), array([0, 0, 0, ..., 0, 0, 0]), array([0, 0, 0, ..., 0, 1, 0]), array([0, 0, 0, ..., 0, 0, 0]), array([0, 0, 0, ..., 0, 1, 0])]\n"
     ]
    }
   ],
   "source": [
    "NUM_PERTURBATIONS = 10\n",
    "list_perturbations_training = generate_perturbation_on_training(train_comments, NUM_PERTURBATIONS)\n",
    "print(list_perturbations_training)"
   ]
  },
  {
   "cell_type": "code",
   "execution_count": 14,
   "metadata": {},
   "outputs": [
    {
     "name": "stdout",
     "output_type": "stream",
     "text": [
      "** [[1, 0.7205438066465257, 0.3735301630362978, 0.43820505002910276, 0.411170879080392, 0.33659677895645457, 0.3175577882386004, 0.37930513595166165], [1, 0.8946587537091988, 0.4054986979955187, 0.41521247924209836, 0.3544908446117102, 0.3098547555833203, 0.3504105996825616, 0.34298431538787627], [1, 0.8421052631578947, 0.33297529538131043, 0.4465636568485434, 0.384681215233205, 0.323044453238359, 0.33011015911872704, 0.3641917293233083], [1, 0.8696319018404909, 0.39922016133359567, 0.48680137333258294, 0.39892263953314383, 0.37893814290327044, 0.37417605935226145, 0.3779907975460123], [1, 0.7972972972972973, 0.40548420140256874, 0.39457806430283493, 0.3996191313264484, 0.3443744496376075, 0.3507228158390949, 0.36605534105534104], [1, 0.7941176470588236, 0.3978914874220365, 0.4226432243587923, 0.41433209997734655, 0.35070648758118206, 0.36158110735114124, 0.38458646616541353], [1, 0.8231707317073171, 0.37198677380359807, 0.40579547997314835, 0.40340571088637717, 0.30982945167797543, 0.35211287577992056, 0.376698606271777], [1, 0.7477341389728097, 0.3538706807712295, 0.47429252473738187, 0.44086655368064254, 0.3337800695091202, 0.32539872128152886, 0.3752913249892102], [1, 0.81055900621118, 0.43954511707078575, 0.4319049518491082, 0.44144826541433113, 0.34600476346144865, 0.3747941643796042, 0.38578083407275954], [1, 0.9082568807339448, 0.37312434803541333, 0.4540021883679825, 0.4138882673230402, 0.32788393000850746, 0.4047791764454875, 0.3900393184796854]]\n"
     ]
    }
   ],
   "source": [
    "training_data_dis = find_gay_dis(train_comments, list_perturbations_training, madlibs_terms)\n",
    "print(\"**\", training_data_dis)\n"
   ]
  },
  {
   "cell_type": "code",
   "execution_count": null,
   "metadata": {},
   "outputs": [],
   "source": [
    "def train_and_predict(train_comments, list_perturbations_training, test_comments):\n",
    "\n",
    "    # This trains a classifier on n different perturbed datsets\n",
    "    d={}\n",
    "    for x in range(NUM_PERTURBATIONS):\n",
    "        d[\"clf{0}\".format(x)] = Pipeline([\n",
    "            ('vect', CountVectorizer(max_features = 10000, ngram_range = (1,2))),\n",
    "            ('tfidf', TfidfTransformer(norm = 'l2')),\n",
    "            ('clf', LogisticRegression()),\n",
    "        ])\n",
    "        d[\"clf{0}\".format(x)] = d[\"clf{0}\".format(x)].\\\n",
    "                                    fit(train_comments['comment'], list_perturbations_training[x])\n",
    "        d[\"auc{0}\".format(x)] = roc_auc_score(test_comments['binary_tox'], \\\n",
    "                                    d[\"clf{0}\".format(x)].predict_proba(test_comments['comment'])[:, 1])\n",
    "        print('x Test ROC AUC: %.5f' %d[\"auc{0}\".format(x)])\n",
    "        \n",
    "    # Once a classifier is trained, this goes to the test data and creates predictions on test data\n",
    "    perturbed_predictions = [] # list, each item is array of predictions. element 0 is 0th perturbation and \n",
    "    # predictions based on that.\n",
    "    # each item in the array is a column that indicates 0/1 for predicted not-toxic/toxic\n",
    "\n",
    "    for i in range(NUM_PERTURBATIONS):\n",
    "        perturbed_predictions.append(d[\"clf{0}\".format(i)].predict(test_comments['comment']))\n",
    "                                                                                 \n",
    "    return perturbed_predictions"
   ]
  },
  {
   "cell_type": "markdown",
   "metadata": {},
   "source": [
    "Caution, that cell below takes a really long time."
   ]
  },
  {
   "cell_type": "code",
   "execution_count": null,
   "metadata": {},
   "outputs": [
    {
     "name": "stdout",
     "output_type": "stream",
     "text": [
      "x Test ROC AUC: 0.93029\n",
      "x Test ROC AUC: 0.93012\n"
     ]
    }
   ],
   "source": [
    "perturbed_predictions = train_and_predict(train_comments, list_perturbations_training, test_comments)\n",
    "print(perturbed_predictions)"
   ]
  },
  {
   "cell_type": "code",
   "execution_count": null,
   "metadata": {},
   "outputs": [],
   "source": [
    "# For each of the perturbed_predictions, append it onto the dataset, find the pairwise DI, and then find the max DI.\n",
    "# Goal: Compute fairness on test dataset.\n",
    "test_data_dis = find_gay_dis(test_comments, perturbed_predictions, madlibs_terms)\n",
    "\n",
    "print(\"**\", test_data_dis)\n",
    "# This is the array of all of the max_dis, and the indexes of the madlibs_terms array that composed that max_di\n",
    "\n"
   ]
  },
  {
   "cell_type": "code",
   "execution_count": null,
   "metadata": {},
   "outputs": [],
   "source": [
    "# SO THATS IT\n",
    "# compare test_data_dis and training_data_dis for all 10 perturbation differences. \n",
    "\n",
    "print(\"$\", test_data_dis)\n",
    "print(\"$$\", training_data_dis)\n",
    "\n",
    "# currently, training data_dis is 10 arrays, one for each perturbation,\n",
    "# and each element in the array is for the 0th toxicity term, etc\n",
    "# we want it to be an array for each toxicity (so kinda flipping the matrix, I'm pretty sure)\n",
    "\n",
    "test_data_dis = np.array(test_data_dis).T\n",
    "print(\"*\", test_data_dis)\n",
    "\n",
    "\n",
    "training_data_dis = np.array(training_data_dis).T\n",
    "print(\"**\", training_data_dis)\n",
    "\n",
    "# omg is there a shorter way than typing out all of these?\n",
    "plt.plot(test_data_dis[0], training_data_dis[0], \"ro\", \\\n",
    "         test_data_dis[1], training_data_dis[1], \"go\",\n",
    "         test_data_dis[2], training_data_dis[2], \"bo\", \\\n",
    "         test_data_dis[3], training_data_dis[3], \"g^\", \\\n",
    "         test_data_dis[4], training_data_dis[4], \"b^\", \\\n",
    "         test_data_dis[5], training_data_dis[5], \"r^\", \\\n",
    "         test_data_dis[6], training_data_dis[6], \"rs\",  \\\n",
    "         test_data_dis[7], training_data_dis[7], \"bs\")"
   ]
  },
  {
   "cell_type": "markdown",
   "metadata": {},
   "source": [
    "### Neha's notes"
   ]
  },
  {
   "cell_type": "markdown",
   "metadata": {},
   "source": [
    "\"This data set (https://figshare.com/articles/Wikipedia_Talk_Labels_Toxicity/4563973) includes over 100k labeled discussion comments from English Wikipedia. Each comment was labeled by multiple annotators via Crowdflower on whether it is a toxic or healthy contribution. We also include some demographic data for each crowd-worker. See our wiki for documentation of the schema of each file and our research paper for documentation on the data collection and modeling methodology. For a quick demo of how to use the data for model building and analysis, check out this ipython notebook.\" - quote from linked page"
   ]
  },
  {
   "cell_type": "code",
   "execution_count": null,
   "metadata": {},
   "outputs": [],
   "source": [
    "comments = pd.read_csv(\"toxicity_annotated_comments.tsv\"\\\n",
    "                                          , sep = \"\\t\")"
   ]
  },
  {
   "cell_type": "markdown",
   "metadata": {},
   "source": [
    "Copied from documentation: <br>\n",
    "\"Schema for {attack/aggression/toxicity}_annotated_comments.tsv\n",
    "The comment text and metadata for comments with attack/aggression/toxicity labels generated by crowd-workers. The actual labels are in the corresponding {attack/aggression/toxicity}_annotations.tsv since each comment was labeled multiple times.\n",
    "\n",
    "rev_id: MediaWiki revision id of the edit that added the comment to a talk page (i.e. discussion). <br>\n",
    "comment: Comment text. Consists of the concatenation of content added during a revision/edit of a talk page. MediaWiki markup and HTML have been stripped out. To simplify tsv parsing, \\n has been mapped to NEWLINE_TOKEN, \\t has been mapped to TAB_TOKEN and \" has been mapped to `. <br>\n",
    "year: The year the comment was posted in. <br>\n",
    "logged_in: Indicator for whether the user who made the comment was logged in. Takes on values in {0, 1}. <br>\n",
    "ns: Namespace of the discussion page the comment was made in. Takes on values in {user, article}. <br>\n",
    "sample: Indicates whether the comment came via random sampling of all comments, or whether it came from random sampling of the 5 comments around a block event for violating WP:npa or WP:HA. Takes on values in {random, blocked}. <br>\n",
    "split: For model building in our paper we split comments into train, dev and test sets. Takes on values in {train, dev, test}.\"\n",
    "<br>\n",
    "\n",
    "My notes: <br> \n",
    "I don't know enough about how natural language processing works, but from the snippets that I do know, I imagine that the really really long comments probably aren't very good at being classified even. I also wonder about how bigram toxicity works and whether this is something the training data accounts for (eg \"nasty woman\" vs \"nasty\" has different sources of problems). What are they classifying on/why does this work? We can see Figure 1 in the Dixon paper for comment length and should be able to filter there. I wonder if the phrase templating of classification works for the problems that I raise of large comment length and bigrams. Is this an issue we should be dealing with?\n",
    "Also, an easier couple of questions are: what does the ns and sample really mean?"
   ]
  },
  {
   "cell_type": "code",
   "execution_count": null,
   "metadata": {},
   "outputs": [],
   "source": [
    "comments.head()"
   ]
  },
  {
   "cell_type": "markdown",
   "metadata": {},
   "source": [
    "Copied from documentation:\n",
    "        Schema for toxicity_annotations.tsv\n",
    "    Toxicity labels from several crowd-workers for each comment in toxicity_annotated_comments.tsv. It can be joined with toxicity_annotated_comments.tsv on rev_id.\n",
    "\n",
    "rev_id: MediaWiki revision id of the edit that added the comment to a talk page (i.e. discussion). <br>\n",
    "worker_id: Anonymized crowd-worker id.<br>\n",
    "toxicity_score: Categorical variable ranging from very toxic (-2), to neutral (0), to very healthy (2). <br>\n",
    "toxicity: Indicator variable for whether the worker thought the comment is toxic. The annotation takes on the value 1 if the worker considered the comment toxic (i.e worker gave a toxicity_score less than 0) and value 0 if the worker considered the comment neutral or healthy (i.e worker gave a toxicity_score greater or equal to 0). Takes on values in {0, 1}.\n",
    "\n",
    "My notes:\n",
    "Things to explore is how many people rated each thing? The paper said 10, but I would like to confirm this. "
   ]
  },
  {
   "cell_type": "code",
   "execution_count": null,
   "metadata": {},
   "outputs": [],
   "source": [
    "annotations = pd.read_csv(\"toxicity_annotations.tsv\"\\\n",
    "                                          , sep = \"\\t\")"
   ]
  },
  {
   "cell_type": "markdown",
   "metadata": {},
   "source": [
    "My comment:\n",
    "    This isn't really one we'll be using until much later, if/when we decide we're doing a perturbation using demographic data. Would first want to check to see what kind of correlations might/do exist between gender/rating and see how they rate comments about women, for example.\n",
    "    \n",
    "\n",
    "Copied from documentation:\n",
    "\n",
    "Schema for {attack/aggression/toxicity}_worker_demographics.tsv\n",
    "Demographic information about the crowdworkers. This information was obtained by an optional demographic survey administered after the labelling task. It is meant to be joined with {attack/aggression/toxicity}_annotations.tsv on worker_id. Some fields may be blank if left unanswered.\n",
    "\n",
    "worker_id: Anonymized crowd-worker id. <br>\n",
    "gender: The gender of the crowd-worker. Takes a value in {'male', 'female', and 'other'}. <br>\n",
    "english_first_language: Does the crowd-worker describe English as their first language. Takes a value in {0, 1}.<br>\n",
    "age_group: The age group of the crowd-worker. Takes on values in {'Under 18', '18-30', '30-45', '45-60', 'Over 60'}.<br>\n",
    "education: The highest education level obtained by the crowd-worker. Takes on values in {'none', 'some', 'hs', 'bachelors', 'masters', 'doctorate', 'professional'}. Here 'none' means no schooling, some means 'some schooling', 'hs' means high school completion, and the remaining terms indicate completion of the corresponding degree type.\n"
   ]
  }
 ],
 "metadata": {
  "kernelspec": {
   "display_name": "Python 3",
   "language": "python",
   "name": "python3"
  },
  "language_info": {
   "codemirror_mode": {
    "name": "ipython",
    "version": 3
   },
   "file_extension": ".py",
   "mimetype": "text/x-python",
   "name": "python",
   "nbconvert_exporter": "python",
   "pygments_lexer": "ipython3",
   "version": "3.6.4"
  }
 },
 "nbformat": 4,
 "nbformat_minor": 2
}
