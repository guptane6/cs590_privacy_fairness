{
 "cells": [
  {
   "cell_type": "code",
   "execution_count": 1,
   "metadata": {},
   "outputs": [],
   "source": [
    "import numpy as np\n",
    "import pandas as pd"
   ]
  },
  {
   "cell_type": "code",
   "execution_count": 2,
   "metadata": {},
   "outputs": [],
   "source": [
    "# Each row in perturbation_DI.csv is a perturbation.\n",
    "# Each column consists of values of Disparate Impact.\n",
    "# Column names first indicate the probability with which labels were perturbed - \n",
    "# specifically, the probability with which labels were replaced randomly with zeros and ones.\n",
    "# Column names then indicate whether the Disparate Impact was computed on the training data or the test data.\n",
    "di = pd.read_csv('perturbation_DI.csv')"
   ]
  },
  {
   "cell_type": "code",
   "execution_count": 3,
   "metadata": {},
   "outputs": [],
   "source": [
    "# Dropping index column.\n",
    "di = di.drop(di.columns[0], axis=1)"
   ]
  },
  {
   "cell_type": "code",
   "execution_count": 8,
   "metadata": {},
   "outputs": [
    {
     "data": {
      "text/html": [
       "<div>\n",
       "<style scoped>\n",
       "    .dataframe tbody tr th:only-of-type {\n",
       "        vertical-align: middle;\n",
       "    }\n",
       "\n",
       "    .dataframe tbody tr th {\n",
       "        vertical-align: top;\n",
       "    }\n",
       "\n",
       "    .dataframe thead th {\n",
       "        text-align: right;\n",
       "    }\n",
       "</style>\n",
       "<table border=\"1\" class=\"dataframe\">\n",
       "  <thead>\n",
       "    <tr style=\"text-align: right;\">\n",
       "      <th></th>\n",
       "      <th>p0.5_training_DI</th>\n",
       "      <th>p0.5_test_DI</th>\n",
       "      <th>p1_training_DI</th>\n",
       "      <th>p1_test_DI</th>\n",
       "    </tr>\n",
       "  </thead>\n",
       "  <tbody>\n",
       "    <tr>\n",
       "      <th>0</th>\n",
       "      <td>2.025285</td>\n",
       "      <td>11.253456</td>\n",
       "      <td>1.257939</td>\n",
       "      <td>1.440250</td>\n",
       "    </tr>\n",
       "    <tr>\n",
       "      <th>1</th>\n",
       "      <td>2.042346</td>\n",
       "      <td>8.657258</td>\n",
       "      <td>1.156601</td>\n",
       "      <td>1.734581</td>\n",
       "    </tr>\n",
       "    <tr>\n",
       "      <th>2</th>\n",
       "      <td>2.045095</td>\n",
       "      <td>10.160729</td>\n",
       "      <td>1.089340</td>\n",
       "      <td>1.304151</td>\n",
       "    </tr>\n",
       "    <tr>\n",
       "      <th>3</th>\n",
       "      <td>1.838118</td>\n",
       "      <td>11.300000</td>\n",
       "      <td>1.123133</td>\n",
       "      <td>1.404130</td>\n",
       "    </tr>\n",
       "    <tr>\n",
       "      <th>4</th>\n",
       "      <td>1.947470</td>\n",
       "      <td>8.239600</td>\n",
       "      <td>1.092279</td>\n",
       "      <td>1.720022</td>\n",
       "    </tr>\n",
       "    <tr>\n",
       "      <th>5</th>\n",
       "      <td>1.984066</td>\n",
       "      <td>7.689862</td>\n",
       "      <td>1.234275</td>\n",
       "      <td>1.964912</td>\n",
       "    </tr>\n",
       "    <tr>\n",
       "      <th>6</th>\n",
       "      <td>2.050604</td>\n",
       "      <td>8.584367</td>\n",
       "      <td>1.353583</td>\n",
       "      <td>1.813400</td>\n",
       "    </tr>\n",
       "    <tr>\n",
       "      <th>7</th>\n",
       "      <td>1.926523</td>\n",
       "      <td>7.446774</td>\n",
       "      <td>1.127016</td>\n",
       "      <td>1.875295</td>\n",
       "    </tr>\n",
       "    <tr>\n",
       "      <th>8</th>\n",
       "      <td>1.982541</td>\n",
       "      <td>9.555040</td>\n",
       "      <td>1.133740</td>\n",
       "      <td>1.791155</td>\n",
       "    </tr>\n",
       "    <tr>\n",
       "      <th>9</th>\n",
       "      <td>1.799186</td>\n",
       "      <td>11.308065</td>\n",
       "      <td>1.194143</td>\n",
       "      <td>1.395089</td>\n",
       "    </tr>\n",
       "  </tbody>\n",
       "</table>\n",
       "</div>"
      ],
      "text/plain": [
       "   p0.5_training_DI  p0.5_test_DI  p1_training_DI  p1_test_DI\n",
       "0          2.025285     11.253456        1.257939    1.440250\n",
       "1          2.042346      8.657258        1.156601    1.734581\n",
       "2          2.045095     10.160729        1.089340    1.304151\n",
       "3          1.838118     11.300000        1.123133    1.404130\n",
       "4          1.947470      8.239600        1.092279    1.720022\n",
       "5          1.984066      7.689862        1.234275    1.964912\n",
       "6          2.050604      8.584367        1.353583    1.813400\n",
       "7          1.926523      7.446774        1.127016    1.875295\n",
       "8          1.982541      9.555040        1.133740    1.791155\n",
       "9          1.799186     11.308065        1.194143    1.395089"
      ]
     },
     "execution_count": 8,
     "metadata": {},
     "output_type": "execute_result"
    }
   ],
   "source": [
    "di"
   ]
  },
  {
   "cell_type": "markdown",
   "metadata": {},
   "source": [
    "##### Next, we plot the relationship between Disparate Impact of the training data and the test data for $p = 0.5$. That is, during perturbation analysis, half of all labels were randomly replaced with zeros and ones.\n",
    "I have plotted this twice, once with default axes and once with equivalent axes, each beginning at 0."
   ]
  },
  {
   "cell_type": "code",
   "execution_count": 9,
   "metadata": {},
   "outputs": [
    {
     "data": {
      "text/plain": [
       "<matplotlib.axes._subplots.AxesSubplot at 0x1d381135828>"
      ]
     },
     "execution_count": 9,
     "metadata": {},
     "output_type": "execute_result"
    },
    {
     "data": {
      "image/png": "[encoded data removed]",
      "text/plain": [
       "<matplotlib.figure.Figure at 0x1d3811af908>"
      ]
     },
     "metadata": {},
     "output_type": "display_data"
    }
   ],
   "source": [
    "di.plot(x='p0.5_training_DI', y='p0.5_test_DI', style=['o'])"
   ]
  },
  {
   "cell_type": "code",
   "execution_count": 7,
   "metadata": {},
   "outputs": [
    {
     "data": {
      "text/plain": [
       "<matplotlib.axes._subplots.AxesSubplot at 0x1d380d99208>"
      ]
     },
     "execution_count": 7,
     "metadata": {},
     "output_type": "execute_result"
    },
    {
     "data": {
      "image/png": "[encoded data removed]",
      "text/plain": [
       "<matplotlib.figure.Figure at 0x1d38114b550>"
      ]
     },
     "metadata": {},
     "output_type": "display_data"
    }
   ],
   "source": [
    "di.plot(x='p0.5_training_DI', y='p0.5_test_DI', style=['o'], xlim=[0, 12], ylim=[0, 12])"
   ]
  },
  {
   "cell_type": "markdown",
   "metadata": {},
   "source": [
    "##### Finally, we do the same for $p = 1$ - that is, *all* labels have been replaced with zeros and ones chosen at random. Here we have a completely synthetic dataset, so we expect Disparate Impact to be closer to 1. Disparate Impact of 1 indicates that the probability of a comment containing a term $t_{i}$ being labeled as toxic is equal to the probability of a comment containing a term $t_{j}$ being labeled as toxic. \n",
    "Again, we plot twice, with different axes."
   ]
  },
  {
   "cell_type": "code",
   "execution_count": 6,
   "metadata": {},
   "outputs": [
    {
     "data": {
      "text/plain": [
       "<matplotlib.axes._subplots.AxesSubplot at 0x1d380d11550>"
      ]
     },
     "execution_count": 6,
     "metadata": {},
     "output_type": "execute_result"
    },
    {
     "data": {
      "image/png": "[encoded data removed]",
      "text/plain": [
       "<matplotlib.figure.Figure at 0x1d380c2f898>"
      ]
     },
     "metadata": {},
     "output_type": "display_data"
    }
   ],
   "source": [
    "di.plot(x='p1_training_DI', y='p1_test_DI', style=['o'], xlim=[0, 2], ylim=[0, 2])"
   ]
  },
  {
   "cell_type": "code",
   "execution_count": null,
   "metadata": {},
   "outputs": [],
   "source": []
  }
 ],
 "metadata": {
  "kernelspec": {
   "display_name": "Python 3",
   "language": "python",
   "name": "python3"
  },
  "language_info": {
   "codemirror_mode": {
    "name": "ipython",
    "version": 3
   },
   "file_extension": ".py",
   "mimetype": "text/x-python",
   "name": "python",
   "nbconvert_exporter": "python",
   "pygments_lexer": "ipython3",
   "version": "3.6.4"
  }
 },
 "nbformat": 4,
 "nbformat_minor": 2
}
