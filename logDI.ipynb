{
 "cells": [
  {
   "cell_type": "markdown",
   "metadata": {},
   "source": [
    "Here I want to measure fairness using the generalization of disparate impact found [here](https://drive.google.com/open?id=1c8jUcH3wCoFMf6YAti4QWYFqwhlKYhfI)."
   ]
  },
  {
   "cell_type": "code",
   "execution_count": 41,
   "metadata": {},
   "outputs": [],
   "source": [
    "import numpy as np\n",
    "import pandas as pd\n",
    "import math"
   ]
  },
  {
   "cell_type": "code",
   "execution_count": null,
   "metadata": {},
   "outputs": [],
   "source": [
    "def logDI(df, labels_col, terms):\n",
    "    \n",
    "    logDI_arr = np.empty((len(terms)), len(terms))\n",
    "    \n",
    "    for i in range(len(terms)):\n",
    "        for j in range(len(terms)):\n",
    "            \n",
    "            logDI[i, j] =  math.log(len(df[(df['i']==True) & (df[labels_col]==True)]) / len(df[df['i']==True])) \\\n",
    "                            - math.log(len(df[(df['j']==True) & (df[labels_col]==True)]) / len(df[df['j']==True]))\n",
    "                \n",
    "    logDI = logDI_arr.sum()\n",
    "    return logDI"
   ]
  }
 ],
 "metadata": {
  "kernelspec": {
   "display_name": "Python 3",
   "language": "python",
   "name": "python3"
  },
  "language_info": {
   "codemirror_mode": {
    "name": "ipython",
    "version": 3
   },
   "file_extension": ".py",
   "mimetype": "text/x-python",
   "name": "python",
   "nbconvert_exporter": "python",
   "pygments_lexer": "ipython3",
   "version": "3.6.4"
  }
 },
 "nbformat": 4,
 "nbformat_minor": 2
}
