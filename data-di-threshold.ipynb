{
 "cells": [
  {
   "cell_type": "markdown",
   "metadata": {},
   "source": [
    "Note: Much of this code was lifted from [the Conversation AI project](https://conversationai.github.io/). In this file, I want to do DI vs gay on the y axis and threshold of toxicity on the x axis"
   ]
  },
  {
   "cell_type": "code",
   "execution_count": 7,
   "metadata": {},
   "outputs": [],
   "source": [
    "import pandas as pd\n",
    "import numpy as np\n",
    "from sklearn.pipeline import Pipeline\n",
    "from sklearn.feature_extraction.text import CountVectorizer\n",
    "from sklearn.feature_extraction.text import TfidfTransformer\n",
    "from sklearn.linear_model import LogisticRegression\n",
    "from sklearn.metrics import roc_auc_score\n",
    "import model_bias_analysis\n",
    "import matplotlib.pyplot as plt"
   ]
  },
  {
   "cell_type": "code",
   "execution_count": 8,
   "metadata": {},
   "outputs": [],
   "source": [
    "def read_files(THRESHOLD_BINARY_TOXICITY):\n",
    "    comments = pd.read_csv(\"toxicity_annotated_comments.tsv\"\\\n",
    "                                          , sep = \"\\t\")\n",
    "    annotations = pd.read_csv(\"toxicity_annotations.tsv\"\\\n",
    "                                          , sep = \"\\t\")\n",
    "    # toxicity_worker_demographics = pd.read_csv(\"toxicity_worker_demographics.tsv\"\\\n",
    "#                                           , sep = \"\\t\")\n",
    "    grouped_annotations = annotations.groupby('rev_id',as_index=False)['toxicity'].mean()\n",
    "    joined_tox = grouped_annotations.join(comments, lsuffix='rev_id', rsuffix='rev_id', how='left', sort=True) \n",
    "    joined_tox['binary_tox'] = np.where(joined_tox['toxicity']>=THRESHOLD_BINARY_TOXICITY, 1, 0)\n",
    "    \n",
    "    # remove newline and tab tokens\n",
    "    joined_tox['comment'] = joined_tox.comment.apply(lambda x: x.replace('NEWLINE_TOKEN', '').replace('TAB_TOKEN', ''))\n",
    "    joined_tox['len_comment'] = joined_tox.comment.apply(lambda x: len(x))\n",
    "    \n",
    "    return joined_tox\n"
   ]
  },
  {
   "cell_type": "code",
   "execution_count": 9,
   "metadata": {},
   "outputs": [],
   "source": [
    "def split_test_train(joined_tox):\n",
    "    test_comments = joined_tox.query(\"split == 'test' \")\n",
    "    train_comments = joined_tox.query(\"split == 'train' \")\n",
    "    \n",
    "    return test_comments, train_comments"
   ]
  },
  {
   "cell_type": "code",
   "execution_count": 10,
   "metadata": {},
   "outputs": [],
   "source": [
    "def add_identity_terms(test_comments, train_comments):\n",
    "\n",
    "    # Currently not in use, but possibly we'll switch to use this later\n",
    "\n",
    "    # TEST_TERMS = ['tall', 'wikipedia', 'teacher', 'music', 'box',\n",
    "    #               'lesbian', 'gay', 'bisexual', 'transgender', 'queer',\n",
    "    #               'homosexual', 'heterosexual', 'straight',\n",
    "    #               'muslim', 'jewish', 'jew', 'christian',\n",
    "    #               'feminist', 'black', 'white']\n",
    "\n",
    "    madlibs_terms = model_bias_analysis.read_identity_terms('adjectives_people.txt')\n",
    "\n",
    "    # Add identity labels to train and test comments\n",
    "    model_bias_analysis.add_subgroup_columns_from_text(train_comments, 'comment', madlibs_terms)\n",
    "    model_bias_analysis.add_subgroup_columns_from_text(test_comments, 'comment', madlibs_terms)\n",
    "    \n",
    "    return madlibs_terms"
   ]
  },
  {
   "cell_type": "markdown",
   "metadata": {},
   "source": [
    "* *grouped_annotations* takes the mean of all toxicity ratings of a comment.\n",
    "* *joined_tox* joins *grouped_annotations* and *comments*.\n",
    "* We also add a column *binary_tox* to the dataframe *joined_tox*. Here we assign a toxicity rating of 0 or 1 based on whether the mean toxicity rating is above or below 0.5 (or other value determined by threshold_binary_toxicity"
   ]
  },
  {
   "cell_type": "code",
   "execution_count": 13,
   "metadata": {},
   "outputs": [
    {
     "name": "stderr",
     "output_type": "stream",
     "text": [
      "C:\\Users\\Neha\\Documents\\GitHub\\cs590_privacy_fairness\\model_bias_analysis.py:78: SettingWithCopyWarning: \n",
      "A value is trying to be set on a copy of a slice from a DataFrame.\n",
      "Try using .loc[row_indexer,col_indexer] = value instead\n",
      "\n",
      "See the caveats in the documentation: http://pandas.pydata.org/pandas-docs/stable/indexing.html#indexing-view-versus-copy\n",
      "  df[term] = df[text_column].apply(lambda x: bool(re.search(r'\\b{}\\b'.format(term), x, flags=re.IGNORECASE)))\n"
     ]
    },
    {
     "name": "stdout",
     "output_type": "stream",
     "text": [
      "Done with  30\n",
      "Done with  35\n",
      "Done with  40\n",
      "Done with  45\n",
      "Done with  50\n",
      "Done with  55\n",
      "Done with  60\n",
      "Done with  65\n",
      "Done with  70\n",
      "Done with  75\n",
      "Done with  80\n",
      "Done with  85\n",
      "Done with  90\n"
     ]
    }
   ],
   "source": [
    "for i in range(30,95,5):\n",
    "    joined_tox = read_files(i*0.01)\n",
    "    test_comments, train_comments = split_test_train(joined_tox)\n",
    "    madlibs_terms = add_identity_terms(test_comments, train_comments)\n",
    "\n",
    "    # This writes the 3 dataframes to csv so that we can read from that later for shorter code.\n",
    "    joined_tox.to_csv('joined_tox'+str(i)+'.csv')\n",
    "    train_comments.to_csv('train_comments'+str(i)+'.csv')\n",
    "    test_comments.to_csv('test_comments'+str(i)+'.csv')\n",
    "    print(\"Done with \",i)\n",
    "# Either use this or the commented-out stuff above. That (above) reads all of the actual files and generates df's\n",
    "# This (below) reads pre-generated df's so that we don't have to run all the 3 functions above each time. \n",
    "\n",
    "# joined_tox = pd.read_csv('joined_tox.csv')\n",
    "# train_comments = pd.read_csv('train_comments.csv')\n",
    "# test_comments = pd.read_csv('test_comments.csv')\n",
    "# madlibs_terms = model_bias_analysis.read_identity_terms('adjectives_people.txt')"
   ]
  },
  {
   "cell_type": "code",
   "execution_count": 6,
   "metadata": {},
   "outputs": [],
   "source": [
    "# Data cleaning needed:\n",
    "# What identity terms are we taking out and why? Brandons' initial suggestion was in less than 5% of toxic comments\n",
    "# But we might have to do less than 5% of toxic comments WITH an identity term\n",
    "# I also think it's really important to balance by comment length...but how?\n",
    "\n",
    "# Another thing to check for data cleaning. Are we using the test set determined in the paper?"
   ]
  },
  {
   "cell_type": "code",
   "execution_count": 7,
   "metadata": {},
   "outputs": [
    {
     "data": {
      "text/plain": [
       "Text(0.5,0,'')"
      ]
     },
     "execution_count": 7,
     "metadata": {},
     "output_type": "execute_result"
    },
    {
     "data": {
      "image/png": "[encoded data removed]",
      "text/plain": [
       "<Figure size 432x288 with 1 Axes>"
      ]
     },
     "metadata": {},
     "output_type": "display_data"
    }
   ],
   "source": [
    "# Here, I plot how often each identity term appears\n",
    "# Part of the effort to clean the data by ensuring that I don't use words that never appear!\n",
    "\n",
    "num_toxic_train = []\n",
    "num_toxic_test = []\n",
    "\n",
    "training_toxic_rows = train_comments[train_comments[\"binary_tox\"] == 1]\n",
    "test_toxic_rows = test_comments[test_comments[\"binary_tox\"] == 1]\n",
    "\n",
    "for i in range(len(madlibs_terms)):\n",
    "    num_toxic_train.append(training_toxic_rows.iloc[:,11+i].sum())\n",
    "    num_toxic_test.append(test_toxic_rows.iloc[:,11+i].sum())\n",
    "#print(num_toxic_train)\n",
    "#print(num_toxic_test)\n",
    "\n",
    "toxic_appearances = np.add(num_toxic_train, num_toxic_test)\n",
    "# So array element 0 is how often madLibs_terms index 0 appeared in comments that are toxic in both test and training, etc\n",
    "\n",
    "plt.bar(madlibs_terms, toxic_appearances)\n",
    "plt.xticks(rotation=90)\n",
    "plt.xlabel('', fontsize=16)\n",
    "# urgh will need to space this out really hard. Maybe rank it, too. \n",
    "\n"
   ]
  },
  {
   "cell_type": "code",
   "execution_count": 8,
   "metadata": {},
   "outputs": [
    {
     "data": {
      "image/png": "[encoded data removed]",
      "text/plain": [
       "<Figure size 432x288 with 1 Axes>"
      ]
     },
     "metadata": {},
     "output_type": "display_data"
    }
   ],
   "source": [
    "# This is me taking out the bottom values and making a new graph\n",
    "CUTOFF_THRESHOLD = 0.03\n",
    "\n",
    "sum_toxic_comments = 0\n",
    "for i in toxic_appearances:\n",
    "    sum_toxic_comments += i\n",
    "\n",
    "new_madlibs_terms = []\n",
    "new_toxic_appearances = []\n",
    "for i in range(len(toxic_appearances)):\n",
    "    if (toxic_appearances[i]/sum_toxic_comments) >= CUTOFF_THRESHOLD:\n",
    "        new_madlibs_terms.append(madlibs_terms[i])\n",
    "        new_toxic_appearances.append(toxic_appearances[i])\n",
    "        \n",
    "# So now, new_madlibs_terms is just the words that appear in CUTOFF_THRESHOLD% of toxic comments\n",
    "# And, the corresponding how often they occur is in new_toxic_appearances\n",
    "\n",
    "plt.bar(new_madlibs_terms, new_toxic_appearances)\n",
    "\n",
    "# TAKE THESE OUT IF YOU DON'T WANT TO USE THIS METHODOLOGY OF FILTERING:\n",
    "madlibs_terms = new_madlibs_terms\n",
    "toxic_appearances = new_toxic_appearances"
   ]
  },
  {
   "cell_type": "markdown",
   "metadata": {},
   "source": [
    "Train logistic regression classifier."
   ]
  },
  {
   "cell_type": "markdown",
   "metadata": {},
   "source": [
    "Equation DI:\n",
    "DI(t1,t2) = (probability that comment containing term t1 is labeled toxic) / (probability that comment containing term t2 is labelled toxic)\n",
    "= a/b\n",
    "\n",
    "a = # comments containing t1 AND toxic / # comments containing t1\n",
    "= alpha/beta"
   ]
  },
  {
   "cell_type": "code",
   "execution_count": 9,
   "metadata": {},
   "outputs": [
    {
     "name": "stdout",
     "output_type": "stream",
     "text": [
      "[0.62544803 0.46774194 0.13702624 0.18042813 0.15853659 0.09857978\n",
      " 0.11860465 0.12916667]\n",
      "8\n"
     ]
    }
   ],
   "source": [
    "def calculate_pairwise_di(df, madlibs_terms, colname):\n",
    "    \n",
    "    # We now calculate the DI for each pair for the training data.\n",
    "\n",
    "    term_toxicity = np.zeros(len(madlibs_terms))\n",
    "\n",
    "    # we temporarily put -1 in as a placeholder for stuff that has no exacmples of terms with that term.\n",
    "    # non-binary is one\n",
    "    for i in range(len(madlibs_terms)):\n",
    "        try:\n",
    "            term_toxicity[i] = float((df[(df[madlibs_terms[i]] == True) & (df[colname] == 1)].shape[0]))/  \\\n",
    "            float((df[df[madlibs_terms[i]] == True].shape[0]))\n",
    "        except ZeroDivisionError:\n",
    "            term_toxicity[i] = -1 \n",
    "\n",
    "    return term_toxicity\n",
    "\n",
    "term_toxicity = calculate_pairwise_di(train_comments, madlibs_terms, 'binary_tox')\n",
    "print(term_toxicity)\n",
    "print(len(term_toxicity))\n"
   ]
  },
  {
   "cell_type": "code",
   "execution_count": 10,
   "metadata": {},
   "outputs": [],
   "source": [
    "# This finds the max DI between all pairs of identity terms, which for one of our experiments,\n",
    "# we're claiming is kind of the DI of all terms\n",
    "# Possibly something we'll take out or come back to once we try more versions of our code. (Neha's working on this!)\n",
    "\n",
    "def gay_ratio(term_toxicity, madlibs_terms):\n",
    "    term_vs_gay = []\n",
    "    top_indexes = ()\n",
    "    j = 0 # This is the index of gay\n",
    "    for i in range(len(madlibs_terms)):\n",
    "        if (i==j or term_toxicity[i] == -1 or term_toxicity[j] == -1 or term_toxicity[j] == 0):\n",
    "            term_vs_gay.append(1)\n",
    "        else:\n",
    "            term_vs_gay.append(term_toxicity[i]/ term_toxicity[j])\n",
    "                \n",
    "    return term_vs_gay\n"
   ]
  },
  {
   "cell_type": "code",
   "execution_count": 11,
   "metadata": {},
   "outputs": [],
   "source": [
    "# Calculate max DIs on all of the perturbed training datasets\n",
    "def find_gay_dis(df_comments, list_perturbation, madlibs_terms):\n",
    "    \n",
    "    term_vs_gay_by_pert = []\n",
    "    # So this is a series of ararys.\n",
    "    # one array in this is going to be one perturbation, where each array is t1/gay di, t2/gay di...\n",
    "\n",
    "    for i in range(NUM_PERTURBATIONS):\n",
    "        df_comments['newcol'] = list_perturbation[i]\n",
    "        term_toxicity = calculate_pairwise_di(df_comments, madlibs_terms, 'newcol')\n",
    "        term_vs_gay = gay_ratio(term_toxicity, madlibs_terms)\n",
    "        term_vs_gay_by_pert.append(term_vs_gay)\n",
    "        \n",
    "    # This is the array of all of the max_dis, and the indexes of the madlibs_terms array that composed that max_di\n",
    "    return term_vs_gay_by_pert"
   ]
  },
  {
   "cell_type": "code",
   "execution_count": 12,
   "metadata": {},
   "outputs": [],
   "source": [
    "# Generates perturbations\n",
    "# Basically, creates num_perturbations number of arrays. \n",
    "# Each array is the length of the train_comments\n",
    "# Each item in the array is 0/1 and is PROBABILITY_FLIP flipped from the true value of binary toxicity \n",
    "\n",
    "PROBABILITY_FLIP = 0.75\n",
    "def generate_perturbation_on_training(train_comments, num_perturbations):\n",
    "    \n",
    "    list_perturbation = []\n",
    "\n",
    "    length = len(train_comments.binary_tox.values)\n",
    "    for j in range(num_perturbations):\n",
    "        rand = np.random.random(length) # generate a random number (between 0 and 1) for each comment\n",
    "        tox_tmp = np.copy(train_comments.binary_tox.values) # np.copy(tox_np)\n",
    "        for i in range(length):\n",
    "            if rand[i] >= PROBABILITY_FLIP: # if random number is greater than 0.5, replace value in array with a random integer from [0, 1]\n",
    "                tox_tmp[i] = np.random.randint(2)\n",
    "        list_perturbation.append(tox_tmp)\n",
    "\n",
    "    # each item in list_perturbation is a list of 0s and 1s that correspond to the new binary_tox of each variable\n",
    "    \n",
    "    return list_perturbation"
   ]
  },
  {
   "cell_type": "code",
   "execution_count": 13,
   "metadata": {},
   "outputs": [
    {
     "name": "stdout",
     "output_type": "stream",
     "text": [
      "[array([0, 0, 0, ..., 0, 0, 0], dtype=int64), array([0, 0, 1, ..., 0, 0, 0], dtype=int64), array([0, 0, 0, ..., 0, 0, 0], dtype=int64), array([0, 1, 0, ..., 0, 0, 0], dtype=int64), array([0, 0, 0, ..., 0, 0, 0], dtype=int64), array([0, 0, 0, ..., 0, 1, 0], dtype=int64), array([0, 0, 1, ..., 0, 0, 0], dtype=int64), array([0, 0, 0, ..., 0, 0, 0], dtype=int64), array([0, 0, 0, ..., 0, 0, 1], dtype=int64), array([0, 0, 0, ..., 0, 0, 1], dtype=int64)]\n"
     ]
    }
   ],
   "source": [
    "NUM_PERTURBATIONS = 10\n",
    "list_perturbations_training = generate_perturbation_on_training(train_comments, NUM_PERTURBATIONS)\n",
    "print(list_perturbations_training)"
   ]
  },
  {
   "cell_type": "code",
   "execution_count": 31,
   "metadata": {},
   "outputs": [
    {
     "name": "stdout",
     "output_type": "stream",
     "text": [
      "** [[1, 0.7322485207100591, 0.327289664809288, 0.4493241409261169, 0.420551306104777, 0.32824665213329174, 0.39160588963808995, 0.37931107354184274], [1, 0.7785923753665689, 0.324410283593957, 0.445371142618849, 0.4168514412416851, 0.3185235816814764, 0.38054968287526425, 0.3623376623376623], [1, 0.8999999999999999, 0.31579488938432515, 0.419077172153265, 0.40028694404591103, 0.3290579389650597, 0.32823529411764707, 0.36731092436974794], [1, 0.81055900621118, 0.40923166072107636, 0.4875491480996068, 0.43440387820027265, 0.36916826227058325, 0.3747941643796042, 0.37649733806566105], [1, 0.8700906344410876, 0.35878555133749657, 0.412428282380332, 0.4180237270650652, 0.32532994116711716, 0.34500105388884983, 0.391346568839016], [1, 0.8446153846153847, 0.35539807131643864, 0.3964149611856034, 0.42806754221388366, 0.3083863504916136, 0.37932021466905186, 0.372], [1, 0.7477341389728097, 0.3784450336025649, 0.44851575708861113, 0.4180237270650652, 0.3591304545351294, 0.36460338649617086, 0.3752913249892102], [1, 0.6893063583815029, 0.3432312644298017, 0.44386699899241666, 0.36493726208938393, 0.30853144421748013, 0.3337948649011964, 0.3609413707679604], [1, 0.7682926829268293, 0.37198677380359807, 0.46562430073842026, 0.4495092207019631, 0.33825417201540436, 0.375850822461713, 0.36555966898954706], [1, 0.8108108108108109, 0.3859427941060594, 0.4406975783122572, 0.40643082106496736, 0.3317753844069633, 0.35851665619107476, 0.36805019305019304]]\n"
     ]
    }
   ],
   "source": [
    "training_data_dis = find_gay_dis(train_comments, list_perturbations_training, madlibs_terms)\n",
    "print(\"**\", training_data_dis)\n"
   ]
  },
  {
   "cell_type": "code",
   "execution_count": 15,
   "metadata": {},
   "outputs": [],
   "source": [
    "def train_and_predict(train_comments, list_perturbations_training, test_comments):\n",
    "\n",
    "    # This trains a classifier on n different perturbed datsets\n",
    "    d={}\n",
    "    for x in range(NUM_PERTURBATIONS):\n",
    "        d[\"clf{0}\".format(x)] = Pipeline([\n",
    "            ('vect', CountVectorizer(max_features = 10000, ngram_range = (1,2))),\n",
    "            ('tfidf', TfidfTransformer(norm = 'l2')),\n",
    "            ('clf', LogisticRegression()),\n",
    "        ])\n",
    "        d[\"clf{0}\".format(x)] = d[\"clf{0}\".format(x)].\\\n",
    "                                    fit(train_comments['comment'], list_perturbations_training[x])\n",
    "        d[\"auc{0}\".format(x)] = roc_auc_score(test_comments['binary_tox'], \\\n",
    "                                    d[\"clf{0}\".format(x)].predict_proba(test_comments['comment'])[:, 1])\n",
    "        print('x Test ROC AUC: %.5f' %d[\"auc{0}\".format(x)])\n",
    "        \n",
    "    # Once a classifier is trained, this goes to the test data and creates predictions on test data\n",
    "    perturbed_predictions = [] # list, each item is array of predictions. element 0 is 0th perturbation and \n",
    "    # predictions based on that.\n",
    "    # each item in the array is a column that indicates 0/1 for predicted not-toxic/toxic\n",
    "\n",
    "    for i in range(NUM_PERTURBATIONS):\n",
    "        perturbed_predictions.append(d[\"clf{0}\".format(i)].predict(test_comments['comment']))\n",
    "                                                                                 \n",
    "    return perturbed_predictions"
   ]
  },
  {
   "cell_type": "markdown",
   "metadata": {},
   "source": [
    "Caution, that cell below takes a really long time."
   ]
  },
  {
   "cell_type": "code",
   "execution_count": 16,
   "metadata": {},
   "outputs": [
    {
     "name": "stdout",
     "output_type": "stream",
     "text": [
      "x Test ROC AUC: 0.93016\n",
      "x Test ROC AUC: 0.93017\n",
      "x Test ROC AUC: 0.93064\n",
      "x Test ROC AUC: 0.92890\n",
      "x Test ROC AUC: 0.93146\n",
      "x Test ROC AUC: 0.93133\n",
      "x Test ROC AUC: 0.93241\n",
      "x Test ROC AUC: 0.92992\n",
      "x Test ROC AUC: 0.93359\n",
      "x Test ROC AUC: 0.93206\n",
      "[array([0, 0, 0, ..., 0, 0, 0], dtype=int64), array([0, 0, 0, ..., 0, 0, 0], dtype=int64), array([0, 0, 0, ..., 0, 0, 0], dtype=int64), array([0, 0, 0, ..., 0, 0, 0], dtype=int64), array([0, 0, 0, ..., 0, 0, 0], dtype=int64), array([0, 0, 0, ..., 0, 0, 0], dtype=int64), array([0, 0, 0, ..., 0, 0, 0], dtype=int64), array([0, 0, 0, ..., 0, 0, 0], dtype=int64), array([0, 0, 0, ..., 0, 0, 0], dtype=int64), array([0, 0, 0, ..., 0, 0, 0], dtype=int64)]\n"
     ]
    }
   ],
   "source": [
    "perturbed_predictions = train_and_predict(train_comments, list_perturbations_training, test_comments)\n",
    "print(perturbed_predictions)"
   ]
  },
  {
   "cell_type": "code",
   "execution_count": 30,
   "metadata": {},
   "outputs": [
    {
     "name": "stdout",
     "output_type": "stream",
     "text": [
      "** [[1, 0.6436877076411961, 0.07974891953076765, 0.18744186046511627, 0.2064337670320664, 0.10185132278155534, 0.13701890384876922, 0.13257035800105893], [1, 0.607843137254902, 0.08068714211348256, 0.1823529411764706, 0.21689556880020733, 0.09856915739268682, 0.15995872033023736, 0.13413000927165963], [1, 0.6970899470899471, 0.07620452310717797, 0.17222222222222222, 0.16691140479686734, 0.10578760578760578, 0.10071474983755685, 0.11159758707919827], [1, 0.6219903691813804, 0.12329720592622054, 0.1602247191011236, 0.1687868138395288, 0.11553432901747507, 0.16295420198436164, 0.12505165390897105], [1, 0.6946778711484594, 0.1290994273815721, 0.1823529411764706, 0.19279606115573986, 0.1120104061280532, 0.1279669762641899, 0.11177500772638303], [1, 0.607843137254902, 0.1129619989588756, 0.1750588235294118, 0.18476289194091736, 0.08960832490244255, 0.11730306157550739, 0.12774286597300918], [1, 0.5438596491228069, 0.07219375873311597, 0.13052631578947368, 0.17250173892881984, 0.09621104357946464, 0.12403816558941212, 0.10286662365194948], [1, 0.6362889983579639, 0.11036517139660258, 0.2066666666666667, 0.16481847182135803, 0.08754836341043237, 0.09376890502117362, 0.11856593594621254], [1, 0.5149501661129569, 0.11164848734307471, 0.21627906976744185, 0.2223132875729946, 0.12399291469058911, 0.14755881952944377, 0.10731886123895247], [1, 0.7299843014128728, 0.07536711076534086, 0.15670329670329672, 0.1800842329476691, 0.09625509625509626, 0.12949039264828738, 0.10738823348280442]]\n"
     ]
    }
   ],
   "source": [
    "# For each of the perturbed_predictions, append it onto the dataset, find the pairwise DI, and then find the max DI.\n",
    "# Goal: Compute fairness on test dataset.\n",
    "test_data_dis = find_gay_dis(test_comments, perturbed_predictions, madlibs_terms)\n",
    "\n",
    "print(\"**\", test_data_dis)\n",
    "# This is the array of all of the max_dis, and the indexes of the madlibs_terms array that composed that max_di\n",
    "\n"
   ]
  },
  {
   "cell_type": "code",
   "execution_count": 49,
   "metadata": {},
   "outputs": [
    {
     "name": "stdout",
     "output_type": "stream",
     "text": [
      "$ [[1.         0.64368771 0.07974892 0.18744186 0.20643377 0.10185132\n",
      "  0.1370189  0.13257036]\n",
      " [1.         0.60784314 0.08068714 0.18235294 0.21689557 0.09856916\n",
      "  0.15995872 0.13413001]\n",
      " [1.         0.69708995 0.07620452 0.17222222 0.1669114  0.10578761\n",
      "  0.10071475 0.11159759]\n",
      " [1.         0.62199037 0.12329721 0.16022472 0.16878681 0.11553433\n",
      "  0.1629542  0.12505165]\n",
      " [1.         0.69467787 0.12909943 0.18235294 0.19279606 0.11201041\n",
      "  0.12796698 0.11177501]\n",
      " [1.         0.60784314 0.112962   0.17505882 0.18476289 0.08960832\n",
      "  0.11730306 0.12774287]\n",
      " [1.         0.54385965 0.07219376 0.13052632 0.17250174 0.09621104\n",
      "  0.12403817 0.10286662]\n",
      " [1.         0.636289   0.11036517 0.20666667 0.16481847 0.08754836\n",
      "  0.09376891 0.11856594]\n",
      " [1.         0.51495017 0.11164849 0.21627907 0.22231329 0.12399291\n",
      "  0.14755882 0.10731886]\n",
      " [1.         0.7299843  0.07536711 0.1567033  0.18008423 0.0962551\n",
      "  0.12949039 0.10738823]]\n",
      "$$ [[1.         0.73224852 0.32728966 0.44932414 0.42055131 0.32824665\n",
      "  0.39160589 0.37931107]\n",
      " [1.         0.77859238 0.32441028 0.44537114 0.41685144 0.31852358\n",
      "  0.38054968 0.36233766]\n",
      " [1.         0.9        0.31579489 0.41907717 0.40028694 0.32905794\n",
      "  0.32823529 0.36731092]\n",
      " [1.         0.81055901 0.40923166 0.48754915 0.43440388 0.36916826\n",
      "  0.37479416 0.37649734]\n",
      " [1.         0.87009063 0.35878555 0.41242828 0.41802373 0.32532994\n",
      "  0.34500105 0.39134657]\n",
      " [1.         0.84461538 0.35539807 0.39641496 0.42806754 0.30838635\n",
      "  0.37932021 0.372     ]\n",
      " [1.         0.74773414 0.37844503 0.44851576 0.41802373 0.35913045\n",
      "  0.36460339 0.37529132]\n",
      " [1.         0.68930636 0.34323126 0.443867   0.36493726 0.30853144\n",
      "  0.33379486 0.36094137]\n",
      " [1.         0.76829268 0.37198677 0.4656243  0.44950922 0.33825417\n",
      "  0.37585082 0.36555967]\n",
      " [1.         0.81081081 0.38594279 0.44069758 0.40643082 0.33177538\n",
      "  0.35851666 0.36805019]]\n",
      "* [[1.         1.         1.         1.         1.         1.\n",
      "  1.         1.         1.         1.        ]\n",
      " [0.64368771 0.60784314 0.69708995 0.62199037 0.69467787 0.60784314\n",
      "  0.54385965 0.636289   0.51495017 0.7299843 ]\n",
      " [0.07974892 0.08068714 0.07620452 0.12329721 0.12909943 0.112962\n",
      "  0.07219376 0.11036517 0.11164849 0.07536711]\n",
      " [0.18744186 0.18235294 0.17222222 0.16022472 0.18235294 0.17505882\n",
      "  0.13052632 0.20666667 0.21627907 0.1567033 ]\n",
      " [0.20643377 0.21689557 0.1669114  0.16878681 0.19279606 0.18476289\n",
      "  0.17250174 0.16481847 0.22231329 0.18008423]\n",
      " [0.10185132 0.09856916 0.10578761 0.11553433 0.11201041 0.08960832\n",
      "  0.09621104 0.08754836 0.12399291 0.0962551 ]\n",
      " [0.1370189  0.15995872 0.10071475 0.1629542  0.12796698 0.11730306\n",
      "  0.12403817 0.09376891 0.14755882 0.12949039]\n",
      " [0.13257036 0.13413001 0.11159759 0.12505165 0.11177501 0.12774287\n",
      "  0.10286662 0.11856594 0.10731886 0.10738823]]\n",
      "** [[1.         1.         1.         1.         1.         1.\n",
      "  1.         1.         1.         1.        ]\n",
      " [0.73224852 0.77859238 0.9        0.81055901 0.87009063 0.84461538\n",
      "  0.74773414 0.68930636 0.76829268 0.81081081]\n",
      " [0.32728966 0.32441028 0.31579489 0.40923166 0.35878555 0.35539807\n",
      "  0.37844503 0.34323126 0.37198677 0.38594279]\n",
      " [0.44932414 0.44537114 0.41907717 0.48754915 0.41242828 0.39641496\n",
      "  0.44851576 0.443867   0.4656243  0.44069758]\n",
      " [0.42055131 0.41685144 0.40028694 0.43440388 0.41802373 0.42806754\n",
      "  0.41802373 0.36493726 0.44950922 0.40643082]\n",
      " [0.32824665 0.31852358 0.32905794 0.36916826 0.32532994 0.30838635\n",
      "  0.35913045 0.30853144 0.33825417 0.33177538]\n",
      " [0.39160589 0.38054968 0.32823529 0.37479416 0.34500105 0.37932021\n",
      "  0.36460339 0.33379486 0.37585082 0.35851666]\n",
      " [0.37931107 0.36233766 0.36731092 0.37649734 0.39134657 0.372\n",
      "  0.37529132 0.36094137 0.36555967 0.36805019]]\n"
     ]
    },
    {
     "data": {
      "text/plain": [
       "[<matplotlib.lines.Line2D at 0x2c88c85f780>,\n",
       " <matplotlib.lines.Line2D at 0x2c88c85f9b0>,\n",
       " <matplotlib.lines.Line2D at 0x2c88c8671d0>,\n",
       " <matplotlib.lines.Line2D at 0x2c88c867320>,\n",
       " <matplotlib.lines.Line2D at 0x2c88c867a58>,\n",
       " <matplotlib.lines.Line2D at 0x2c88c867eb8>,\n",
       " <matplotlib.lines.Line2D at 0x2c88c86e358>,\n",
       " <matplotlib.lines.Line2D at 0x2c88c86e550>]"
      ]
     },
     "execution_count": 49,
     "metadata": {},
     "output_type": "execute_result"
    },
    {
     "data": {
      "image/png": "[encoded data removed]",
      "text/plain": [
       "<Figure size 432x288 with 1 Axes>"
      ]
     },
     "metadata": {},
     "output_type": "display_data"
    }
   ],
   "source": [
    "# SO THATS IT\n",
    "# compare test_data_dis and training_data_dis for all 10 perturbation differences. \n",
    "\n",
    "print(\"$\", test_data_dis)\n",
    "print(\"$$\", training_data_dis)\n",
    "\n",
    "# currently, training data_dis is 10 arrays, one for each perturbation,\n",
    "# and each element in the array is for the 0th toxicity term, etc\n",
    "# we want it to be an array for each toxicity (so kinda flipping the matrix, I'm pretty sure)\n",
    "\n",
    "test_data_dis = np.array(test_data_dis).T\n",
    "print(\"*\", test_data_dis)\n",
    "\n",
    "\n",
    "training_data_dis = np.array(training_data_dis).T\n",
    "print(\"**\", training_data_dis)\n",
    "\n",
    "# omg is there a shorter way than typing out all of these?\n",
    "plt.plot(test_data_dis[0], training_data_dis[0], \"ro\", \\\n",
    "         test_data_dis[1], training_data_dis[1], \"go\",\n",
    "         test_data_dis[2], training_data_dis[2], \"bo\", \\\n",
    "         test_data_dis[3], training_data_dis[3], \"g^\", \\\n",
    "         test_data_dis[4], training_data_dis[4], \"b^\", \\\n",
    "         test_data_dis[5], training_data_dis[5], \"r^\", \\\n",
    "         test_data_dis[6], training_data_dis[6], \"rs\",  \\\n",
    "         test_data_dis[7], training_data_dis[7], \"bs\")"
   ]
  },
  {
   "cell_type": "markdown",
   "metadata": {},
   "source": [
    "### Neha's notes"
   ]
  },
  {
   "cell_type": "markdown",
   "metadata": {},
   "source": [
    "\"This data set (https://figshare.com/articles/Wikipedia_Talk_Labels_Toxicity/4563973) includes over 100k labeled discussion comments from English Wikipedia. Each comment was labeled by multiple annotators via Crowdflower on whether it is a toxic or healthy contribution. We also include some demographic data for each crowd-worker. See our wiki for documentation of the schema of each file and our research paper for documentation on the data collection and modeling methodology. For a quick demo of how to use the data for model building and analysis, check out this ipython notebook.\" - quote from linked page"
   ]
  },
  {
   "cell_type": "code",
   "execution_count": null,
   "metadata": {},
   "outputs": [],
   "source": [
    "comments = pd.read_csv(\"toxicity_annotated_comments.tsv\"\\\n",
    "                                          , sep = \"\\t\")"
   ]
  },
  {
   "cell_type": "markdown",
   "metadata": {},
   "source": [
    "Copied from documentation: <br>\n",
    "\"Schema for {attack/aggression/toxicity}_annotated_comments.tsv\n",
    "The comment text and metadata for comments with attack/aggression/toxicity labels generated by crowd-workers. The actual labels are in the corresponding {attack/aggression/toxicity}_annotations.tsv since each comment was labeled multiple times.\n",
    "\n",
    "rev_id: MediaWiki revision id of the edit that added the comment to a talk page (i.e. discussion). <br>\n",
    "comment: Comment text. Consists of the concatenation of content added during a revision/edit of a talk page. MediaWiki markup and HTML have been stripped out. To simplify tsv parsing, \\n has been mapped to NEWLINE_TOKEN, \\t has been mapped to TAB_TOKEN and \" has been mapped to `. <br>\n",
    "year: The year the comment was posted in. <br>\n",
    "logged_in: Indicator for whether the user who made the comment was logged in. Takes on values in {0, 1}. <br>\n",
    "ns: Namespace of the discussion page the comment was made in. Takes on values in {user, article}. <br>\n",
    "sample: Indicates whether the comment came via random sampling of all comments, or whether it came from random sampling of the 5 comments around a block event for violating WP:npa or WP:HA. Takes on values in {random, blocked}. <br>\n",
    "split: For model building in our paper we split comments into train, dev and test sets. Takes on values in {train, dev, test}.\"\n",
    "<br>\n",
    "\n",
    "My notes: <br> \n",
    "I don't know enough about how natural language processing works, but from the snippets that I do know, I imagine that the really really long comments probably aren't very good at being classified even. I also wonder about how bigram toxicity works and whether this is something the training data accounts for (eg \"nasty woman\" vs \"nasty\" has different sources of problems). What are they classifying on/why does this work? We can see Figure 1 in the Dixon paper for comment length and should be able to filter there. I wonder if the phrase templating of classification works for the problems that I raise of large comment length and bigrams. Is this an issue we should be dealing with?\n",
    "Also, an easier couple of questions are: what does the ns and sample really mean?"
   ]
  },
  {
   "cell_type": "code",
   "execution_count": null,
   "metadata": {},
   "outputs": [],
   "source": [
    "comments.head()"
   ]
  },
  {
   "cell_type": "markdown",
   "metadata": {},
   "source": [
    "Copied from documentation:\n",
    "        Schema for toxicity_annotations.tsv\n",
    "    Toxicity labels from several crowd-workers for each comment in toxicity_annotated_comments.tsv. It can be joined with toxicity_annotated_comments.tsv on rev_id.\n",
    "\n",
    "rev_id: MediaWiki revision id of the edit that added the comment to a talk page (i.e. discussion). <br>\n",
    "worker_id: Anonymized crowd-worker id.<br>\n",
    "toxicity_score: Categorical variable ranging from very toxic (-2), to neutral (0), to very healthy (2). <br>\n",
    "toxicity: Indicator variable for whether the worker thought the comment is toxic. The annotation takes on the value 1 if the worker considered the comment toxic (i.e worker gave a toxicity_score less than 0) and value 0 if the worker considered the comment neutral or healthy (i.e worker gave a toxicity_score greater or equal to 0). Takes on values in {0, 1}.\n",
    "\n",
    "My notes:\n",
    "Things to explore is how many people rated each thing? The paper said 10, but I would like to confirm this. "
   ]
  },
  {
   "cell_type": "code",
   "execution_count": null,
   "metadata": {},
   "outputs": [],
   "source": [
    "annotations = pd.read_csv(\"toxicity_annotations.tsv\"\\\n",
    "                                          , sep = \"\\t\")"
   ]
  },
  {
   "cell_type": "markdown",
   "metadata": {},
   "source": [
    "My comment:\n",
    "    This isn't really one we'll be using until much later, if/when we decide we're doing a perturbation using demographic data. Would first want to check to see what kind of correlations might/do exist between gender/rating and see how they rate comments about women, for example.\n",
    "    \n",
    "\n",
    "Copied from documentation:\n",
    "\n",
    "Schema for {attack/aggression/toxicity}_worker_demographics.tsv\n",
    "Demographic information about the crowdworkers. This information was obtained by an optional demographic survey administered after the labelling task. It is meant to be joined with {attack/aggression/toxicity}_annotations.tsv on worker_id. Some fields may be blank if left unanswered.\n",
    "\n",
    "worker_id: Anonymized crowd-worker id. <br>\n",
    "gender: The gender of the crowd-worker. Takes a value in {'male', 'female', and 'other'}. <br>\n",
    "english_first_language: Does the crowd-worker describe English as their first language. Takes a value in {0, 1}.<br>\n",
    "age_group: The age group of the crowd-worker. Takes on values in {'Under 18', '18-30', '30-45', '45-60', 'Over 60'}.<br>\n",
    "education: The highest education level obtained by the crowd-worker. Takes on values in {'none', 'some', 'hs', 'bachelors', 'masters', 'doctorate', 'professional'}. Here 'none' means no schooling, some means 'some schooling', 'hs' means high school completion, and the remaining terms indicate completion of the corresponding degree type.\n"
   ]
  }
 ],
 "metadata": {
  "kernelspec": {
   "display_name": "Python 3",
   "language": "python",
   "name": "python3"
  },
  "language_info": {
   "codemirror_mode": {
    "name": "ipython",
    "version": 3
   },
   "file_extension": ".py",
   "mimetype": "text/x-python",
   "name": "python",
   "nbconvert_exporter": "python",
   "pygments_lexer": "ipython3",
   "version": "3.6.5"
  }
 },
 "nbformat": 4,
 "nbformat_minor": 2
}
