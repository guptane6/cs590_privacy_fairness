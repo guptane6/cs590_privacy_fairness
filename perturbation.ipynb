{
 "cells": [
  {
   "cell_type": "code",
   "execution_count": 1,
   "metadata": {},
   "outputs": [],
   "source": [
    "import numpy as np\n",
    "import pandas as pd"
   ]
  },
  {
   "cell_type": "code",
   "execution_count": 2,
   "metadata": {},
   "outputs": [],
   "source": [
    "train_comments = pd.read_csv('train_comments.csv')"
   ]
  },
  {
   "cell_type": "code",
   "execution_count": 4,
   "metadata": {},
   "outputs": [
    {
     "data": {
      "text/plain": [
       "Index([u'Unnamed: 0', u'rev_idrev_id', u'toxicity', u'rev_idrev_id.1',\n",
       "       u'comment', u'year', u'logged_in', u'ns', u'sample', u'split',\n",
       "       u'binary_tox', u'lesbian', u'gay', u'bisexual', u'transgender',\n",
       "       u'trans', u'queer', u'lgbt', u'lgbtq', u'homosexual', u'straight',\n",
       "       u'heterosexual', u'male', u'female', u'nonbinary', u'african',\n",
       "       u'african american', u'black', u'white', u'european', u'hispanic',\n",
       "       u'latino', u'latina', u'latinx', u'mexican', u'canadian', u'american',\n",
       "       u'asian', u'indian', u'middle eastern', u'chinese', u'japanese',\n",
       "       u'christian', u'muslim', u'jewish', u'buddhist', u'catholic',\n",
       "       u'protestant', u'sikh', u'taoist', u'old', u'older', u'young',\n",
       "       u'younger', u'teenage', u'millenial', u'middle aged', u'elderly',\n",
       "       u'blind', u'deaf', u'paralyzed'],\n",
       "      dtype='object')"
      ]
     },
     "execution_count": 4,
     "metadata": {},
     "output_type": "execute_result"
    }
   ],
   "source": [
    "train_comments.columns"
   ]
  },
  {
   "cell_type": "code",
   "execution_count": 9,
   "metadata": {},
   "outputs": [
    {
     "data": {
      "text/html": [
       "<div>\n",
       "<style scoped>\n",
       "    .dataframe tbody tr th:only-of-type {\n",
       "        vertical-align: middle;\n",
       "    }\n",
       "\n",
       "    .dataframe tbody tr th {\n",
       "        vertical-align: top;\n",
       "    }\n",
       "\n",
       "    .dataframe thead th {\n",
       "        text-align: right;\n",
       "    }\n",
       "</style>\n",
       "<table border=\"1\" class=\"dataframe\">\n",
       "  <thead>\n",
       "    <tr style=\"text-align: right;\">\n",
       "      <th></th>\n",
       "      <th>comment</th>\n",
       "      <th>binary_tox</th>\n",
       "    </tr>\n",
       "  </thead>\n",
       "  <tbody>\n",
       "    <tr>\n",
       "      <th>0</th>\n",
       "      <td>This:NEWLINE_TOKEN:One can make an analogy in ...</td>\n",
       "      <td>0</td>\n",
       "    </tr>\n",
       "    <tr>\n",
       "      <th>1</th>\n",
       "      <td>`NEWLINE_TOKENNEWLINE_TOKEN:Clarification for ...</td>\n",
       "      <td>0</td>\n",
       "    </tr>\n",
       "    <tr>\n",
       "      <th>2</th>\n",
       "      <td>`This is such a fun entry.   DevotchkaNEWLINE_...</td>\n",
       "      <td>0</td>\n",
       "    </tr>\n",
       "    <tr>\n",
       "      <th>3</th>\n",
       "      <td>`NEWLINE_TOKENNEWLINE_TOKENNEWLINE_TOKENI fixe...</td>\n",
       "      <td>0</td>\n",
       "    </tr>\n",
       "    <tr>\n",
       "      <th>4</th>\n",
       "      <td>`If they are ``indisputable`` then why does th...</td>\n",
       "      <td>0</td>\n",
       "    </tr>\n",
       "    <tr>\n",
       "      <th>5</th>\n",
       "      <td>`NEWLINE_TOKENNEWLINE_TOKENNEWLINE_TOKENThe co...</td>\n",
       "      <td>0</td>\n",
       "    </tr>\n",
       "    <tr>\n",
       "      <th>6</th>\n",
       "      <td>`just quick notes, since i don't have the time...</td>\n",
       "      <td>0</td>\n",
       "    </tr>\n",
       "    <tr>\n",
       "      <th>7</th>\n",
       "      <td>`The actual idea behind time-out is to get the...</td>\n",
       "      <td>0</td>\n",
       "    </tr>\n",
       "    <tr>\n",
       "      <th>8</th>\n",
       "      <td>`NEWLINE_TOKEN NEWLINE_TOKENNEWLINE_TOKENNEWLI...</td>\n",
       "      <td>0</td>\n",
       "    </tr>\n",
       "    <tr>\n",
       "      <th>9</th>\n",
       "      <td>`]NEWLINE_TOKENNEWLINE_TOKEN:: When I'm angry,...</td>\n",
       "      <td>0</td>\n",
       "    </tr>\n",
       "    <tr>\n",
       "      <th>10</th>\n",
       "      <td>`NEWLINE_TOKENNEWLINE_TOKEN===Announcement===N...</td>\n",
       "      <td>0</td>\n",
       "    </tr>\n",
       "    <tr>\n",
       "      <th>11</th>\n",
       "      <td>NEWLINE_TOKEN:: You have a valid point,, thank...</td>\n",
       "      <td>0</td>\n",
       "    </tr>\n",
       "    <tr>\n",
       "      <th>12</th>\n",
       "      <td>NEWLINE_TOKENNEWLINE_TOKENNEWLINE_TOKENNEWLINE...</td>\n",
       "      <td>0</td>\n",
       "    </tr>\n",
       "    <tr>\n",
       "      <th>13</th>\n",
       "      <td>`I do not understand this sentence: ``Several ...</td>\n",
       "      <td>0</td>\n",
       "    </tr>\n",
       "    <tr>\n",
       "      <th>14</th>\n",
       "      <td>`NEWLINE_TOKENNEWLINE_TOKENNEWLINE_TOKENNEWLIN...</td>\n",
       "      <td>0</td>\n",
       "    </tr>\n",
       "    <tr>\n",
       "      <th>15</th>\n",
       "      <td>`NEWLINE_TOKENNEWLINE_TOKENNEWLINE_TOKEN: At t...</td>\n",
       "      <td>0</td>\n",
       "    </tr>\n",
       "    <tr>\n",
       "      <th>16</th>\n",
       "      <td>NEWLINE_TOKENNEWLINE_TOKENI think it is 1861. ...</td>\n",
       "      <td>0</td>\n",
       "    </tr>\n",
       "    <tr>\n",
       "      <th>17</th>\n",
       "      <td>NEWLINE_TOKENNEWLINE_TOKENok i'll come back. B...</td>\n",
       "      <td>0</td>\n",
       "    </tr>\n",
       "    <tr>\n",
       "      <th>18</th>\n",
       "      <td>NEWLINE_TOKENNEWLINE_TOKENHello there, welcome...</td>\n",
       "      <td>0</td>\n",
       "    </tr>\n",
       "    <tr>\n",
       "      <th>19</th>\n",
       "      <td>`NEWLINE_TOKENNEWLINE_TOKEN: To attempt to bri...</td>\n",
       "      <td>0</td>\n",
       "    </tr>\n",
       "  </tbody>\n",
       "</table>\n",
       "</div>"
      ],
      "text/plain": [
       "                                              comment  binary_tox\n",
       "0   This:NEWLINE_TOKEN:One can make an analogy in ...           0\n",
       "1   `NEWLINE_TOKENNEWLINE_TOKEN:Clarification for ...           0\n",
       "2   `This is such a fun entry.   DevotchkaNEWLINE_...           0\n",
       "3   `NEWLINE_TOKENNEWLINE_TOKENNEWLINE_TOKENI fixe...           0\n",
       "4   `If they are ``indisputable`` then why does th...           0\n",
       "5   `NEWLINE_TOKENNEWLINE_TOKENNEWLINE_TOKENThe co...           0\n",
       "6   `just quick notes, since i don't have the time...           0\n",
       "7   `The actual idea behind time-out is to get the...           0\n",
       "8   `NEWLINE_TOKEN NEWLINE_TOKENNEWLINE_TOKENNEWLI...           0\n",
       "9   `]NEWLINE_TOKENNEWLINE_TOKEN:: When I'm angry,...           0\n",
       "10  `NEWLINE_TOKENNEWLINE_TOKEN===Announcement===N...           0\n",
       "11  NEWLINE_TOKEN:: You have a valid point,, thank...           0\n",
       "12  NEWLINE_TOKENNEWLINE_TOKENNEWLINE_TOKENNEWLINE...           0\n",
       "13  `I do not understand this sentence: ``Several ...           0\n",
       "14  `NEWLINE_TOKENNEWLINE_TOKENNEWLINE_TOKENNEWLIN...           0\n",
       "15  `NEWLINE_TOKENNEWLINE_TOKENNEWLINE_TOKEN: At t...           0\n",
       "16  NEWLINE_TOKENNEWLINE_TOKENI think it is 1861. ...           0\n",
       "17  NEWLINE_TOKENNEWLINE_TOKENok i'll come back. B...           0\n",
       "18  NEWLINE_TOKENNEWLINE_TOKENHello there, welcome...           0\n",
       "19  `NEWLINE_TOKENNEWLINE_TOKEN: To attempt to bri...           0"
      ]
     },
     "execution_count": 9,
     "metadata": {},
     "output_type": "execute_result"
    }
   ],
   "source": [
    "train_comments[['comment', 'binary_tox']].head(20)"
   ]
  },
  {
   "cell_type": "code",
   "execution_count": 13,
   "metadata": {},
   "outputs": [
    {
     "data": {
      "text/plain": [
       "0"
      ]
     },
     "execution_count": 13,
     "metadata": {},
     "output_type": "execute_result"
    }
   ],
   "source": [
    "train_comments.binary_tox[5]"
   ]
  },
  {
   "cell_type": "code",
   "execution_count": 14,
   "metadata": {},
   "outputs": [],
   "source": [
    "df = train_comments"
   ]
  },
  {
   "cell_type": "code",
   "execution_count": null,
   "metadata": {},
   "outputs": [],
   "source": [
    "df.binary_tox[5] = 2"
   ]
  },
  {
   "cell_type": "code",
   "execution_count": 27,
   "metadata": {},
   "outputs": [
    {
     "data": {
      "text/plain": [
       "array([0.44219876])"
      ]
     },
     "execution_count": 27,
     "metadata": {},
     "output_type": "execute_result"
    }
   ],
   "source": [
    "np.random.rand(1)"
   ]
  },
  {
   "cell_type": "code",
   "execution_count": 31,
   "metadata": {},
   "outputs": [
    {
     "data": {
      "text/plain": [
       "1"
      ]
     },
     "execution_count": 31,
     "metadata": {},
     "output_type": "execute_result"
    }
   ],
   "source": [
    "np.random.randint(2)"
   ]
  },
  {
   "cell_type": "code",
   "execution_count": null,
   "metadata": {},
   "outputs": [],
   "source": []
  },
  {
   "cell_type": "code",
   "execution_count": 59,
   "metadata": {},
   "outputs": [
    {
     "name": "stdout",
     "output_type": "stream",
     "text": [
      "1\n"
     ]
    },
    {
     "name": "stderr",
     "output_type": "stream",
     "text": [
      "C:\\Users\\neilp\\Anaconda3\\envs\\envpy27\\lib\\site-packages\\ipykernel_launcher.py:1: SettingWithCopyWarning: \n",
      "A value is trying to be set on a copy of a slice from a DataFrame\n",
      "\n",
      "See the caveats in the documentation: http://pandas.pydata.org/pandas-docs/stable/indexing.html#indexing-view-versus-copy\n",
      "  \"\"\"Entry point for launching an IPython kernel.\n"
     ]
    }
   ],
   "source": [
    "df.binary_tox[5] = np.where(np.random.rand(1) > 0.5, np.random.randint(2), df.binary_tox[5])\n",
    "print(df.binary_tox[5])"
   ]
  },
  {
   "cell_type": "code",
   "execution_count": null,
   "metadata": {},
   "outputs": [],
   "source": [
    "for i in range(len(train_comments)):\n",
    "    train_comments.binary_tox[i] = np.where(np.random.rand(1) > 0.5, np.random.randint(2), train_comments.binary_tox[i])"
   ]
  },
  {
   "cell_type": "code",
   "execution_count": null,
   "metadata": {},
   "outputs": [],
   "source": [
    "def perturbUnif(label, p):\n",
    "    \n",
    "    rand = np.random.rand(len(label))\n",
    "    newLabel = np.zeros(len(race))\n",
    "    for i \n",
    "    \n",
    "    unif = np.random.rand(len(df))\n",
    "    for i in range(len(unif))\n",
    "        if unif[i] >= 0.5:\n",
    "            \n",
    "        \n",
    "    \n",
    "    return df"
   ]
  },
  {
   "cell_type": "code",
   "execution_count": null,
   "metadata": {},
   "outputs": [],
   "source": [
    "p = 0.5\n",
    "\n",
    "train_comments.binary_tox.apply()"
   ]
  },
  {
   "cell_type": "code",
   "execution_count": null,
   "metadata": {},
   "outputs": [],
   "source": []
  }
 ],
 "metadata": {
  "kernelspec": {
   "display_name": "Python 2",
   "language": "python",
   "name": "python2"
  },
  "language_info": {
   "codemirror_mode": {
    "name": "ipython",
    "version": 2
   },
   "file_extension": ".py",
   "mimetype": "text/x-python",
   "name": "python",
   "nbconvert_exporter": "python",
   "pygments_lexer": "ipython2",
   "version": "2.7.14"
  }
 },
 "nbformat": 4,
 "nbformat_minor": 2
}
