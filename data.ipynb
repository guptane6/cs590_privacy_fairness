{
 "cells": [
  {
   "cell_type": "markdown",
   "metadata": {},
   "source": [
    "Note: Much of this code was lifted from [the Conversation AI project](https://conversationai.github.io/)."
   ]
  },
  {
   "cell_type": "code",
   "execution_count": 1,
   "metadata": {},
   "outputs": [],
   "source": [
    "import pandas as pd\n",
    "import numpy as np\n",
    "from sklearn.pipeline import Pipeline\n",
    "from sklearn.feature_extraction.text import CountVectorizer\n",
    "from sklearn.feature_extraction.text import TfidfTransformer\n",
    "from sklearn.linear_model import LogisticRegression\n",
    "from sklearn.metrics import roc_auc_score\n",
    "import model_bias_analysis\n",
    "import matplotlib.pyplot as plt"
   ]
  },
  {
   "cell_type": "markdown",
   "metadata": {},
   "source": [
    "Read TSVs from file. These are the original data from *Conversation AI*."
   ]
  },
  {
   "cell_type": "code",
   "execution_count": 2,
   "metadata": {},
   "outputs": [],
   "source": [
    "THRESHOLD_BINARY_TOXICITY = 0.5\n",
    "\n",
    "def read_files():\n",
    "    comments = pd.read_csv(\"toxicity_annotated_comments.tsv\"\\\n",
    "                                          , sep = \"\\t\")\n",
    "    annotations = pd.read_csv(\"toxicity_annotations.tsv\"\\\n",
    "                                          , sep = \"\\t\")\n",
    "    # toxicity_worker_demographics = pd.read_csv(\"toxicity_worker_demographics.tsv\"\\\n",
    "#                                           , sep = \"\\t\")\n",
    "    grouped_annotations = annotations.groupby('rev_id',as_index=False)['toxicity'].mean()\n",
    "    joined_tox = grouped_annotations.join(comments, lsuffix='rev_id', rsuffix='rev_id', how='left', sort=True) \n",
    "    joined_tox['binary_tox'] = np.where(joined_tox['toxicity']>=THRESHOLD_BINARY_TOXICITY, 1, 0)\n",
    "    \n",
    "    # remove newline and tab tokens\n",
    "    joined_tox['comment'] = joined_tox.comment.apply(lambda x: x.replace('NEWLINE_TOKEN', '').replace('TAB_TOKEN', ''))\n",
    "    joined_tox['len_comment'] = joined_tox.comment.apply(lambda x: len(x))\n",
    "    \n",
    "    return joined_tox\n"
   ]
  },
  {
   "cell_type": "code",
   "execution_count": 3,
   "metadata": {},
   "outputs": [],
   "source": [
    "def split_test_train(joined_tox):\n",
    "    test_comments = joined_tox.query(\"split == 'test' \")\n",
    "    train_comments = joined_tox.query(\"split == 'train' \")\n",
    "    \n",
    "    return test_comments, train_comments"
   ]
  },
  {
   "cell_type": "code",
   "execution_count": 4,
   "metadata": {},
   "outputs": [],
   "source": [
    "def add_identity_terms(test_comments, train_comments):\n",
    "\n",
    "    # Currently not in use, but possibly we'll switch to use this later\n",
    "\n",
    "    # TEST_TERMS = ['tall', 'wikipedia', 'teacher', 'music', 'box',\n",
    "    #               'lesbian', 'gay', 'bisexual', 'transgender', 'queer',\n",
    "    #               'homosexual', 'heterosexual', 'straight',\n",
    "    #               'muslim', 'jewish', 'jew', 'christian',\n",
    "    #               'feminist', 'black', 'white']\n",
    "\n",
    "    madlibs_terms = model_bias_analysis.read_identity_terms('adjectives_people.txt')\n",
    "\n",
    "    # Add identity labels to train and test comments\n",
    "    model_bias_analysis.add_subgroup_columns_from_text(train_comments, 'comment', madlibs_terms)\n",
    "    model_bias_analysis.add_subgroup_columns_from_text(test_comments, 'comment', madlibs_terms)\n",
    "    \n",
    "    return madlibs_terms"
   ]
  },
  {
   "cell_type": "markdown",
   "metadata": {},
   "source": [
    "* *grouped_annotations* takes the mean of all toxicity ratings of a comment.\n",
    "* *joined_tox* joins *grouped_annotations* and *comments*.\n",
    "* We also add a column *binary_tox* to the dataframe *joined_tox*. Here we assign a toxicity rating of 0 or 1 based on whether the mean toxicity rating is above or below 0.5 (or other value determined by threshold_binary_toxicity"
   ]
  },
  {
   "cell_type": "code",
   "execution_count": 5,
   "metadata": {},
   "outputs": [],
   "source": [
    "# joined_tox = read_files()\n",
    "# test_comments, train_comments = split_test_train(joined_tox)\n",
    "# madlibs_terms = add_identity_terms(test_comments, train_comments)\n",
    "\n",
    "# This writes the 3 dataframes to csv so that we can read from that later for shorter code.\n",
    "# joined_tox.to_csv('joined_tox.csv')\n",
    "# train_comments.to_csv('train_comments.csv')\n",
    "# test_comments.to_csv('test_comments.csv')\n",
    "\n",
    "# Either use this or the commented-out stuff above. That (above) reads all of the actual files and generates df's\n",
    "# This (below) reads pre-generated df's so that we don't have to run all the 3 functions above each time. \n",
    "\n",
    "joined_tox = pd.read_csv('joined_tox.csv')\n",
    "train_comments = pd.read_csv('train_comments.csv')\n",
    "test_comments = pd.read_csv('test_comments.csv')\n",
    "madlibs_terms = model_bias_analysis.read_identity_terms('adjectives_people.txt')"
   ]
  },
  {
   "cell_type": "code",
   "execution_count": 6,
   "metadata": {},
   "outputs": [],
   "source": [
    "# Data cleaning needed:\n",
    "# What identity terms are we taking out and why? Brandons' initial suggestion was in less than 5% of toxic comments\n",
    "# But we might have to do less than 5% of toxic comments WITH an identity term\n",
    "# I also think it's really important to balance by comment length...but how?\n",
    "\n",
    "# Another thing to check for data cleaning. Are we using the test set determined in the paper?"
   ]
  },
  {
   "cell_type": "code",
   "execution_count": 9,
   "metadata": {},
   "outputs": [
    {
     "data": {
      "text/plain": [
       "Text(0.5,0,'')"
      ]
     },
     "execution_count": 9,
     "metadata": {},
     "output_type": "execute_result"
    },
    {
     "data": {
      "image/png": "[encoded data removed]",
      "text/plain": [
       "<matplotlib.figure.Figure at 0x1d1ff0aa6d8>"
      ]
     },
     "metadata": {},
     "output_type": "display_data"
    }
   ],
   "source": [
    "# Here, I plot how often each identity term appears\n",
    "# Part of the effort to clean the data by ensuring that I don't use words that never appear!\n",
    "\n",
    "num_toxic_train = []\n",
    "num_toxic_test = []\n",
    "\n",
    "training_toxic_rows = train_comments[train_comments[\"binary_tox\"] == 1]\n",
    "test_toxic_rows = test_comments[test_comments[\"binary_tox\"] == 1]\n",
    "\n",
    "for i in range(len(madlibs_terms)):\n",
    "    num_toxic_train.append(training_toxic_rows.iloc[:,11+i].sum())\n",
    "    num_toxic_test.append(test_toxic_rows.iloc[:,11+i].sum())\n",
    "#print(num_toxic_train)\n",
    "#print(num_toxic_test)\n",
    "\n",
    "toxic_appearances = np.add(num_toxic_train, num_toxic_test)\n",
    "# So array element 0 is how often madLibs_terms index 0 appeared in comments that are toxic in both test and training, etc\n",
    "\n",
    "plt.bar(madlibs_terms, toxic_appearances)\n",
    "plt.xticks(rotation=90)\n",
    "plt.xlabel('', fontsize=16)\n",
    "# urgh will need to space this out really hard. Maybe rank it, too. "
   ]
  },
  {
   "cell_type": "code",
   "execution_count": 10,
   "metadata": {},
   "outputs": [
    {
     "data": {
      "image/png": "[encoded data removed]",
      "text/plain": [
       "<matplotlib.figure.Figure at 0x1d1831aecc0>"
      ]
     },
     "metadata": {},
     "output_type": "display_data"
    }
   ],
   "source": [
    "# This is me taking out the bottom values and making a new graph\n",
    "CUTOFF_THRESHOLD = 0.03\n",
    "\n",
    "sum_toxic_comments = 0\n",
    "for i in toxic_appearances:\n",
    "    sum_toxic_comments += i\n",
    "\n",
    "new_madlibs_terms = []\n",
    "new_toxic_appearances = []\n",
    "for i in range(len(toxic_appearances)):\n",
    "    if (toxic_appearances[i]/sum_toxic_comments) >= CUTOFF_THRESHOLD:\n",
    "        new_madlibs_terms.append(madlibs_terms[i])\n",
    "        new_toxic_appearances.append(toxic_appearances[i])\n",
    "        \n",
    "# So now, new_madlibs_terms is just the words that appear in CUTOFF_THRESHOLD% of toxic comments\n",
    "# And, the corresponding how often they occur is in new_toxic_appearances\n",
    "\n",
    "plt.bar(new_madlibs_terms, new_toxic_appearances)\n",
    "\n",
    "# TAKE THESE OUT IF YOU DON'T WANT TO USE THIS METHODOLOGY OF FILTERING:\n",
    "madlibs_terms = new_madlibs_terms\n",
    "toxic_appearances = new_toxic_appearances"
   ]
  },
  {
   "cell_type": "markdown",
   "metadata": {},
   "source": [
    "Train logistic regression classifier."
   ]
  },
  {
   "cell_type": "markdown",
   "metadata": {},
   "source": [
    "Equation DI:\n",
    "DI(t1,t2) = (probability that comment containing term t1 is labeled toxic) / (probability that comment containing term t2 is labelled toxic)\n",
    "= a/b\n",
    "\n",
    "a = # comments containing t1 AND toxic / # comments containing t1\n",
    "= alpha/beta"
   ]
  },
  {
   "cell_type": "code",
   "execution_count": 11,
   "metadata": {},
   "outputs": [
    {
     "data": {
      "text/plain": [
       "38"
      ]
     },
     "execution_count": 11,
     "metadata": {},
     "output_type": "execute_result"
    }
   ],
   "source": [
    "# Confirm that you can find alpha\n",
    "train_comments[train_comments['lesbian'] == True].shape[0]"
   ]
  },
  {
   "cell_type": "code",
   "execution_count": 12,
   "metadata": {},
   "outputs": [
    {
     "data": {
      "text/plain": [
       "15"
      ]
     },
     "execution_count": 12,
     "metadata": {},
     "output_type": "execute_result"
    }
   ],
   "source": [
    "# Confirm that you can find beta\n",
    "train_comments[(train_comments['lesbian'] == True) & (train_comments['binary_tox'] == 1)].shape[0]"
   ]
  },
  {
   "cell_type": "code",
   "execution_count": 13,
   "metadata": {},
   "outputs": [
    {
     "data": {
      "text/html": [
       "<div>\n",
       "<style scoped>\n",
       "    .dataframe tbody tr th:only-of-type {\n",
       "        vertical-align: middle;\n",
       "    }\n",
       "\n",
       "    .dataframe tbody tr th {\n",
       "        vertical-align: top;\n",
       "    }\n",
       "\n",
       "    .dataframe thead th {\n",
       "        text-align: right;\n",
       "    }\n",
       "</style>\n",
       "<table border=\"1\" class=\"dataframe\">\n",
       "  <thead>\n",
       "    <tr style=\"text-align: right;\">\n",
       "      <th></th>\n",
       "      <th>Unnamed: 0</th>\n",
       "      <th>rev_idrev_id</th>\n",
       "      <th>toxicity</th>\n",
       "      <th>rev_idrev_id.1</th>\n",
       "      <th>comment</th>\n",
       "      <th>year</th>\n",
       "      <th>logged_in</th>\n",
       "      <th>ns</th>\n",
       "      <th>sample</th>\n",
       "      <th>split</th>\n",
       "      <th>...</th>\n",
       "      <th>older</th>\n",
       "      <th>young</th>\n",
       "      <th>younger</th>\n",
       "      <th>teenage</th>\n",
       "      <th>millenial</th>\n",
       "      <th>middle aged</th>\n",
       "      <th>elderly</th>\n",
       "      <th>blind</th>\n",
       "      <th>deaf</th>\n",
       "      <th>paralyzed</th>\n",
       "    </tr>\n",
       "  </thead>\n",
       "  <tbody>\n",
       "    <tr>\n",
       "      <th>0</th>\n",
       "      <td>0</td>\n",
       "      <td>2232.0</td>\n",
       "      <td>0.1</td>\n",
       "      <td>2232.0</td>\n",
       "      <td>This:NEWLINE_TOKEN:One can make an analogy in ...</td>\n",
       "      <td>2002</td>\n",
       "      <td>True</td>\n",
       "      <td>article</td>\n",
       "      <td>random</td>\n",
       "      <td>train</td>\n",
       "      <td>...</td>\n",
       "      <td>False</td>\n",
       "      <td>False</td>\n",
       "      <td>False</td>\n",
       "      <td>False</td>\n",
       "      <td>False</td>\n",
       "      <td>False</td>\n",
       "      <td>False</td>\n",
       "      <td>False</td>\n",
       "      <td>False</td>\n",
       "      <td>False</td>\n",
       "    </tr>\n",
       "    <tr>\n",
       "      <th>1</th>\n",
       "      <td>1</td>\n",
       "      <td>4216.0</td>\n",
       "      <td>0.0</td>\n",
       "      <td>4216.0</td>\n",
       "      <td>`NEWLINE_TOKENNEWLINE_TOKEN:Clarification for ...</td>\n",
       "      <td>2002</td>\n",
       "      <td>True</td>\n",
       "      <td>user</td>\n",
       "      <td>random</td>\n",
       "      <td>train</td>\n",
       "      <td>...</td>\n",
       "      <td>False</td>\n",
       "      <td>False</td>\n",
       "      <td>False</td>\n",
       "      <td>False</td>\n",
       "      <td>False</td>\n",
       "      <td>False</td>\n",
       "      <td>False</td>\n",
       "      <td>False</td>\n",
       "      <td>False</td>\n",
       "      <td>False</td>\n",
       "    </tr>\n",
       "    <tr>\n",
       "      <th>2</th>\n",
       "      <td>3</td>\n",
       "      <td>26547.0</td>\n",
       "      <td>0.0</td>\n",
       "      <td>26547.0</td>\n",
       "      <td>`This is such a fun entry.   DevotchkaNEWLINE_...</td>\n",
       "      <td>2002</td>\n",
       "      <td>True</td>\n",
       "      <td>article</td>\n",
       "      <td>random</td>\n",
       "      <td>train</td>\n",
       "      <td>...</td>\n",
       "      <td>False</td>\n",
       "      <td>False</td>\n",
       "      <td>False</td>\n",
       "      <td>False</td>\n",
       "      <td>False</td>\n",
       "      <td>False</td>\n",
       "      <td>False</td>\n",
       "      <td>False</td>\n",
       "      <td>False</td>\n",
       "      <td>False</td>\n",
       "    </tr>\n",
       "    <tr>\n",
       "      <th>3</th>\n",
       "      <td>6</td>\n",
       "      <td>37330.0</td>\n",
       "      <td>0.3</td>\n",
       "      <td>37330.0</td>\n",
       "      <td>`NEWLINE_TOKENNEWLINE_TOKENNEWLINE_TOKENI fixe...</td>\n",
       "      <td>2002</td>\n",
       "      <td>True</td>\n",
       "      <td>article</td>\n",
       "      <td>random</td>\n",
       "      <td>train</td>\n",
       "      <td>...</td>\n",
       "      <td>False</td>\n",
       "      <td>False</td>\n",
       "      <td>False</td>\n",
       "      <td>False</td>\n",
       "      <td>False</td>\n",
       "      <td>False</td>\n",
       "      <td>False</td>\n",
       "      <td>False</td>\n",
       "      <td>False</td>\n",
       "      <td>False</td>\n",
       "    </tr>\n",
       "    <tr>\n",
       "      <th>4</th>\n",
       "      <td>7</td>\n",
       "      <td>37346.0</td>\n",
       "      <td>0.1</td>\n",
       "      <td>37346.0</td>\n",
       "      <td>`If they are ``indisputable`` then why does th...</td>\n",
       "      <td>2002</td>\n",
       "      <td>True</td>\n",
       "      <td>article</td>\n",
       "      <td>random</td>\n",
       "      <td>train</td>\n",
       "      <td>...</td>\n",
       "      <td>False</td>\n",
       "      <td>False</td>\n",
       "      <td>False</td>\n",
       "      <td>False</td>\n",
       "      <td>False</td>\n",
       "      <td>False</td>\n",
       "      <td>False</td>\n",
       "      <td>False</td>\n",
       "      <td>False</td>\n",
       "      <td>False</td>\n",
       "    </tr>\n",
       "  </tbody>\n",
       "</table>\n",
       "<p>5 rows × 61 columns</p>\n",
       "</div>"
      ],
      "text/plain": [
       "   Unnamed: 0  rev_idrev_id  toxicity  rev_idrev_id.1  \\\n",
       "0           0        2232.0       0.1          2232.0   \n",
       "1           1        4216.0       0.0          4216.0   \n",
       "2           3       26547.0       0.0         26547.0   \n",
       "3           6       37330.0       0.3         37330.0   \n",
       "4           7       37346.0       0.1         37346.0   \n",
       "\n",
       "                                             comment  year  logged_in  \\\n",
       "0  This:NEWLINE_TOKEN:One can make an analogy in ...  2002       True   \n",
       "1  `NEWLINE_TOKENNEWLINE_TOKEN:Clarification for ...  2002       True   \n",
       "2  `This is such a fun entry.   DevotchkaNEWLINE_...  2002       True   \n",
       "3  `NEWLINE_TOKENNEWLINE_TOKENNEWLINE_TOKENI fixe...  2002       True   \n",
       "4  `If they are ``indisputable`` then why does th...  2002       True   \n",
       "\n",
       "        ns  sample  split    ...      older  young  younger  teenage  \\\n",
       "0  article  random  train    ...      False  False    False    False   \n",
       "1     user  random  train    ...      False  False    False    False   \n",
       "2  article  random  train    ...      False  False    False    False   \n",
       "3  article  random  train    ...      False  False    False    False   \n",
       "4  article  random  train    ...      False  False    False    False   \n",
       "\n",
       "   millenial  middle aged  elderly  blind   deaf  paralyzed  \n",
       "0      False        False    False  False  False      False  \n",
       "1      False        False    False  False  False      False  \n",
       "2      False        False    False  False  False      False  \n",
       "3      False        False    False  False  False      False  \n",
       "4      False        False    False  False  False      False  \n",
       "\n",
       "[5 rows x 61 columns]"
      ]
     },
     "execution_count": 13,
     "metadata": {},
     "output_type": "execute_result"
    }
   ],
   "source": [
    "train_comments.head()"
   ]
  },
  {
   "cell_type": "code",
   "execution_count": 14,
   "metadata": {},
   "outputs": [
    {
     "name": "stdout",
     "output_type": "stream",
     "text": [
      "[0.62544803 0.46774194 0.13702624 0.18042813 0.15853659 0.09857978\n",
      " 0.11860465 0.12916667]\n",
      "8\n"
     ]
    }
   ],
   "source": [
    "def calculate_pairwise_di(df, madlibs_terms, colname):\n",
    "    \n",
    "    # We now calculate the DI for each pair for the training data.\n",
    "\n",
    "    term_toxicity = np.zeros(len(madlibs_terms))\n",
    "\n",
    "    # we temporarily put -1 in as a placeholder for stuff that has no exacmples of terms with that term.\n",
    "    # non-binary is one\n",
    "    for i in range(len(madlibs_terms)):\n",
    "        try:\n",
    "            term_toxicity[i] = float((df[(df[madlibs_terms[i]] == True) & (df[colname] == 1)].shape[0]))/  \\\n",
    "            float((df[df[madlibs_terms[i]] == True].shape[0]))\n",
    "        except ZeroDivisionError:\n",
    "            term_toxicity[i] = -1 \n",
    "\n",
    "    return term_toxicity\n",
    "\n",
    "term_toxicity = calculate_pairwise_di(train_comments, madlibs_terms, 'binary_tox')\n",
    "print(term_toxicity)\n",
    "print(len(term_toxicity))"
   ]
  },
  {
   "cell_type": "code",
   "execution_count": 15,
   "metadata": {},
   "outputs": [
    {
     "name": "stdout",
     "output_type": "stream",
     "text": [
      "6.344587206123565 (0, 5)\n"
     ]
    }
   ],
   "source": [
    "# This finds the max DI between all pairs of identity terms, which for one of our experiments,\n",
    "# we're claiming is kind of the DI of all terms\n",
    "# Possibly something we'll take out or come back to once we try more versions of our code. (Neha's working on this!)\n",
    "\n",
    "def find_max_di(term_toxicity, madlibs_terms):\n",
    "    # General questions for potential problems with this method:\n",
    "    # Do we want the 0s? That would mean they are never used in a toxic way but can't divide by 0...\n",
    "    # Also, how often do terms appear? Is sample size crazy small right now?? \n",
    "    max_prop = 0\n",
    "    top_indexes = ()\n",
    "\n",
    "    for i in range(len(madlibs_terms)):\n",
    "        for j in range(len(madlibs_terms)):\n",
    "            if (i==j or term_toxicity[i] == -1 or term_toxicity[j] == -1 or term_toxicity[j] == 0):\n",
    "                continue\n",
    "            if term_toxicity[i]/ term_toxicity[j] > max_prop:\n",
    "                max_prop = term_toxicity[i]/ term_toxicity[j]\n",
    "                top_indexes = (i,j)\n",
    "                \n",
    "    return max_prop, top_indexes\n",
    "\n",
    "max_prop, top_indexes = find_max_di(term_toxicity, madlibs_terms)\n",
    "\n",
    "print(max_prop, top_indexes)\n",
    "# print(madlibs_terms[7], madlibs_terms[34])"
   ]
  },
  {
   "cell_type": "markdown",
   "metadata": {},
   "source": [
    "Now! We do the same thing but for the test data"
   ]
  },
  {
   "cell_type": "code",
   "execution_count": 16,
   "metadata": {},
   "outputs": [
    {
     "data": {
      "text/plain": [
       "18"
      ]
     },
     "execution_count": 16,
     "metadata": {},
     "output_type": "execute_result"
    }
   ],
   "source": [
    "# alpha of test\n",
    "test_comments[test_comments['lesbian'] == True].shape[0]"
   ]
  },
  {
   "cell_type": "code",
   "execution_count": 17,
   "metadata": {},
   "outputs": [],
   "source": [
    "# beta of test\n",
    "#test_comments[(test_comments['lesbian'] == True) & (test_comments['predicted'] == 1)].shape[0]"
   ]
  },
  {
   "cell_type": "code",
   "execution_count": 18,
   "metadata": {},
   "outputs": [],
   "source": [
    "# Generates perturbations\n",
    "# Basically, creates num_perturbations number of arrays. \n",
    "# Each array is the length of the train_comments\n",
    "# Each item in the array is 0/1 and is PROBABILITY_FLIP flipped from the true value of binary toxicity \n",
    "\n",
    "PROBABILITY_FLIP = 1\n",
    "def generate_perturbation_on_training(train_comments, num_perturbations):\n",
    "    \n",
    "    list_perturbation = []\n",
    "\n",
    "    length = len(train_comments.binary_tox.values)\n",
    "    for j in range(num_perturbations):\n",
    "        rand = np.random.random(length) # generate a random number (between 0 and 1) for each comment\n",
    "        tox_tmp = np.copy(train_comments.binary_tox.values) # np.copy(tox_np)\n",
    "        for i in range(length):\n",
    "            if rand[i] <= PROBABILITY_FLIP: # if random number is greater than 0.5, replace value in array with a random integer from [0, 1]\n",
    "                tox_tmp[i] = np.random.randint(2)\n",
    "        list_perturbation.append(tox_tmp)\n",
    "\n",
    "    # each item in list_perturbation is a list of 0s and 1s that correspond to the new binary_tox of each variable\n",
    "    \n",
    "    return list_perturbation"
   ]
  },
  {
   "cell_type": "code",
   "execution_count": 19,
   "metadata": {},
   "outputs": [
    {
     "name": "stdout",
     "output_type": "stream",
     "text": [
      "[array([1, 1, 1, ..., 0, 0, 0], dtype=int64), array([0, 1, 0, ..., 1, 1, 0], dtype=int64), array([1, 1, 0, ..., 0, 1, 1], dtype=int64), array([1, 1, 1, ..., 1, 1, 0], dtype=int64), array([0, 0, 1, ..., 1, 1, 0], dtype=int64), array([1, 0, 0, ..., 0, 1, 0], dtype=int64), array([0, 1, 1, ..., 1, 1, 1], dtype=int64), array([1, 1, 1, ..., 1, 0, 0], dtype=int64), array([0, 0, 1, ..., 1, 1, 1], dtype=int64), array([0, 0, 1, ..., 1, 1, 1], dtype=int64)]\n"
     ]
    }
   ],
   "source": [
    "NUM_PERTURBATIONS = 10\n",
    "list_perturbations_training = generate_perturbation_on_training(train_comments, NUM_PERTURBATIONS)\n",
    "print(list_perturbations_training)"
   ]
  },
  {
   "cell_type": "code",
   "execution_count": 20,
   "metadata": {},
   "outputs": [],
   "source": [
    "# Calculate max DIs on all of the perturbed training datasets\n",
    "def find_max_dis_of_perturbations(df_comments, list_perturbation, madlibs_terms):\n",
    "    \n",
    "    array_dis = []\n",
    "\n",
    "    for i in range(NUM_PERTURBATIONS):\n",
    "        df_comments['newcol'] = list_perturbation[i]\n",
    "        term_toxicity = calculate_pairwise_di(df_comments, madlibs_terms, 'newcol')\n",
    "        max_prop, top_indexes = find_max_di(term_toxicity, madlibs_terms)\n",
    "        array_dis.append((max_prop, top_indexes))\n",
    "        \n",
    "    # This is the array of all of the max_dis, and the indexes of the madlibs_terms array that composed that max_di\n",
    "    return array_dis"
   ]
  },
  {
   "cell_type": "code",
   "execution_count": 21,
   "metadata": {},
   "outputs": [
    {
     "name": "stdout",
     "output_type": "stream",
     "text": [
      "** [(1.257939308398024, (3, 1)), (1.156601251594872, (3, 2)), (1.0893397177419355, (1, 5)), (1.1231334149326806, (6, 1)), (1.0922787193973635, (0, 1)), (1.2342747496552138, (3, 1)), (1.3535832937826293, (6, 1)), (1.127016129032258, (1, 6)), (1.1337401474701245, (5, 2)), (1.1941434654438257, (6, 4))]\n"
     ]
    }
   ],
   "source": [
    "training_data_dis = find_max_dis_of_perturbations(train_comments, list_perturbations_training, madlibs_terms)\n",
    "print(\"**\", training_data_dis)"
   ]
  },
  {
   "cell_type": "code",
   "execution_count": 22,
   "metadata": {},
   "outputs": [],
   "source": [
    "def train_and_predict(train_comments, list_perturbations_training, test_comments):\n",
    "\n",
    "    # This trains a classifier on n different perturbed datsets\n",
    "    d={}\n",
    "    for x in range(NUM_PERTURBATIONS):\n",
    "        d[\"clf{0}\".format(x)] = Pipeline([\n",
    "            ('vect', CountVectorizer(max_features = 10000, ngram_range = (1,2))),\n",
    "            ('tfidf', TfidfTransformer(norm = 'l2')),\n",
    "            ('clf', LogisticRegression()),\n",
    "        ])\n",
    "        d[\"clf{0}\".format(x)] = d[\"clf{0}\".format(x)].\\\n",
    "                                    fit(train_comments['comment'], list_perturbations_training[x])\n",
    "        d[\"auc{0}\".format(x)] = roc_auc_score(test_comments['binary_tox'], \\\n",
    "                                    d[\"clf{0}\".format(x)].predict_proba(test_comments['comment'])[:, 1])\n",
    "        print('x Test ROC AUC: %.5f' %d[\"auc{0}\".format(x)])\n",
    "        \n",
    "    # Once a classifier is trained, this goes to the test data and creates predictions on test data\n",
    "    perturbed_predictions = [] # list, each item is array of predictions. element 0 is 0th perturbation and \n",
    "    # predictions based on that.\n",
    "    # each item in the array is a column that indicates 0/1 for predicted not-toxic/toxic\n",
    "\n",
    "    for i in range(NUM_PERTURBATIONS):\n",
    "        perturbed_predictions.append(d[\"clf{0}\".format(i)].predict(test_comments['comment']))\n",
    "                                                                                 \n",
    "    return perturbed_predictions"
   ]
  },
  {
   "cell_type": "markdown",
   "metadata": {},
   "source": [
    "Caution, that cell below takes a really long time."
   ]
  },
  {
   "cell_type": "code",
   "execution_count": 23,
   "metadata": {},
   "outputs": [
    {
     "name": "stdout",
     "output_type": "stream",
     "text": [
      "x Test ROC AUC: 0.50563\n",
      "x Test ROC AUC: 0.49437\n",
      "x Test ROC AUC: 0.51621\n",
      "x Test ROC AUC: 0.51050\n",
      "x Test ROC AUC: 0.51391\n",
      "x Test ROC AUC: 0.48701\n",
      "x Test ROC AUC: 0.48796\n",
      "x Test ROC AUC: 0.52379\n",
      "x Test ROC AUC: 0.50343\n",
      "x Test ROC AUC: 0.51317\n",
      "[array([0, 0, 1, ..., 1, 1, 1], dtype=int64), array([1, 0, 1, ..., 1, 0, 1], dtype=int64), array([0, 1, 0, ..., 0, 1, 1], dtype=int64), array([0, 0, 0, ..., 1, 0, 1], dtype=int64), array([0, 0, 1, ..., 1, 0, 1], dtype=int64), array([0, 1, 0, ..., 1, 1, 1], dtype=int64), array([0, 0, 1, ..., 0, 0, 0], dtype=int64), array([0, 1, 0, ..., 1, 0, 0], dtype=int64), array([1, 1, 1, ..., 0, 0, 0], dtype=int64), array([1, 0, 1, ..., 0, 0, 0], dtype=int64)]\n"
     ]
    }
   ],
   "source": [
    "perturbed_predictions = train_and_predict(train_comments, list_perturbations_training, test_comments)\n",
    "print(perturbed_predictions)"
   ]
  },
  {
   "cell_type": "code",
   "execution_count": 24,
   "metadata": {},
   "outputs": [
    {
     "name": "stdout",
     "output_type": "stream",
     "text": [
      "[28249  3617]\n",
      "[16137 15729]\n",
      "[16158 15708]\n",
      "[15891 15975]\n",
      "[15738 16128]\n",
      "[16237 15629]\n",
      "[16080 15786]\n",
      "[16189 15677]\n",
      "[15541 16325]\n",
      "[16042 15824]\n",
      "[15969 15897]\n"
     ]
    }
   ],
   "source": [
    "# Sanity check\n",
    "print(np.bincount(test_comments.binary_tox.values))\n",
    "# More sanity\n",
    "for arr in perturbed_predictions:\n",
    "    print(np.bincount(arr))"
   ]
  },
  {
   "cell_type": "code",
   "execution_count": 25,
   "metadata": {},
   "outputs": [],
   "source": [
    "test_comments['newcol'] = perturbed_predictions[0]"
   ]
  },
  {
   "cell_type": "code",
   "execution_count": 26,
   "metadata": {},
   "outputs": [
    {
     "data": {
      "text/html": [
       "<div>\n",
       "<style scoped>\n",
       "    .dataframe tbody tr th:only-of-type {\n",
       "        vertical-align: middle;\n",
       "    }\n",
       "\n",
       "    .dataframe tbody tr th {\n",
       "        vertical-align: top;\n",
       "    }\n",
       "\n",
       "    .dataframe thead th {\n",
       "        text-align: right;\n",
       "    }\n",
       "</style>\n",
       "<table border=\"1\" class=\"dataframe\">\n",
       "  <thead>\n",
       "    <tr style=\"text-align: right;\">\n",
       "      <th></th>\n",
       "      <th>Unnamed: 0</th>\n",
       "      <th>rev_idrev_id</th>\n",
       "      <th>toxicity</th>\n",
       "      <th>rev_idrev_id.1</th>\n",
       "      <th>comment</th>\n",
       "      <th>year</th>\n",
       "      <th>logged_in</th>\n",
       "      <th>ns</th>\n",
       "      <th>sample</th>\n",
       "      <th>split</th>\n",
       "      <th>...</th>\n",
       "      <th>young</th>\n",
       "      <th>younger</th>\n",
       "      <th>teenage</th>\n",
       "      <th>millenial</th>\n",
       "      <th>middle aged</th>\n",
       "      <th>elderly</th>\n",
       "      <th>blind</th>\n",
       "      <th>deaf</th>\n",
       "      <th>paralyzed</th>\n",
       "      <th>newcol</th>\n",
       "    </tr>\n",
       "  </thead>\n",
       "  <tbody>\n",
       "    <tr>\n",
       "      <th>0</th>\n",
       "      <td>2</td>\n",
       "      <td>8953.0</td>\n",
       "      <td>0.0</td>\n",
       "      <td>8953.0</td>\n",
       "      <td>Elected or Electoral? JHK</td>\n",
       "      <td>2002</td>\n",
       "      <td>False</td>\n",
       "      <td>article</td>\n",
       "      <td>random</td>\n",
       "      <td>test</td>\n",
       "      <td>...</td>\n",
       "      <td>False</td>\n",
       "      <td>False</td>\n",
       "      <td>False</td>\n",
       "      <td>False</td>\n",
       "      <td>False</td>\n",
       "      <td>False</td>\n",
       "      <td>False</td>\n",
       "      <td>False</td>\n",
       "      <td>False</td>\n",
       "      <td>0</td>\n",
       "    </tr>\n",
       "    <tr>\n",
       "      <th>1</th>\n",
       "      <td>4</td>\n",
       "      <td>28959.0</td>\n",
       "      <td>0.2</td>\n",
       "      <td>28959.0</td>\n",
       "      <td>Please relate the ozone hole to increases in c...</td>\n",
       "      <td>2002</td>\n",
       "      <td>True</td>\n",
       "      <td>article</td>\n",
       "      <td>random</td>\n",
       "      <td>test</td>\n",
       "      <td>...</td>\n",
       "      <td>False</td>\n",
       "      <td>False</td>\n",
       "      <td>False</td>\n",
       "      <td>False</td>\n",
       "      <td>False</td>\n",
       "      <td>False</td>\n",
       "      <td>False</td>\n",
       "      <td>False</td>\n",
       "      <td>False</td>\n",
       "      <td>0</td>\n",
       "    </tr>\n",
       "    <tr>\n",
       "      <th>2</th>\n",
       "      <td>19</td>\n",
       "      <td>138074.0</td>\n",
       "      <td>0.0</td>\n",
       "      <td>138074.0</td>\n",
       "      <td>`NEWLINE_TOKENNEWLINE_TOKENNEWLINE_TOKENNEWLIN...</td>\n",
       "      <td>2002</td>\n",
       "      <td>True</td>\n",
       "      <td>article</td>\n",
       "      <td>random</td>\n",
       "      <td>test</td>\n",
       "      <td>...</td>\n",
       "      <td>False</td>\n",
       "      <td>False</td>\n",
       "      <td>False</td>\n",
       "      <td>False</td>\n",
       "      <td>False</td>\n",
       "      <td>False</td>\n",
       "      <td>False</td>\n",
       "      <td>False</td>\n",
       "      <td>False</td>\n",
       "      <td>1</td>\n",
       "    </tr>\n",
       "    <tr>\n",
       "      <th>3</th>\n",
       "      <td>33</td>\n",
       "      <td>200664.0</td>\n",
       "      <td>0.0</td>\n",
       "      <td>200664.0</td>\n",
       "      <td>NEWLINE_TOKENNEWLINE_TOKENNEWLINE_TOKEN NEWLIN...</td>\n",
       "      <td>2002</td>\n",
       "      <td>True</td>\n",
       "      <td>user</td>\n",
       "      <td>random</td>\n",
       "      <td>test</td>\n",
       "      <td>...</td>\n",
       "      <td>False</td>\n",
       "      <td>False</td>\n",
       "      <td>False</td>\n",
       "      <td>False</td>\n",
       "      <td>False</td>\n",
       "      <td>False</td>\n",
       "      <td>False</td>\n",
       "      <td>False</td>\n",
       "      <td>False</td>\n",
       "      <td>1</td>\n",
       "    </tr>\n",
       "    <tr>\n",
       "      <th>4</th>\n",
       "      <td>37</td>\n",
       "      <td>213105.0</td>\n",
       "      <td>0.0</td>\n",
       "      <td>213105.0</td>\n",
       "      <td>`NEWLINE_TOKENNEWLINE_TOKEN: I should do that ...</td>\n",
       "      <td>2002</td>\n",
       "      <td>True</td>\n",
       "      <td>user</td>\n",
       "      <td>random</td>\n",
       "      <td>test</td>\n",
       "      <td>...</td>\n",
       "      <td>False</td>\n",
       "      <td>False</td>\n",
       "      <td>False</td>\n",
       "      <td>False</td>\n",
       "      <td>False</td>\n",
       "      <td>False</td>\n",
       "      <td>False</td>\n",
       "      <td>False</td>\n",
       "      <td>False</td>\n",
       "      <td>1</td>\n",
       "    </tr>\n",
       "  </tbody>\n",
       "</table>\n",
       "<p>5 rows × 62 columns</p>\n",
       "</div>"
      ],
      "text/plain": [
       "   Unnamed: 0  rev_idrev_id  toxicity  rev_idrev_id.1  \\\n",
       "0           2        8953.0       0.0          8953.0   \n",
       "1           4       28959.0       0.2         28959.0   \n",
       "2          19      138074.0       0.0        138074.0   \n",
       "3          33      200664.0       0.0        200664.0   \n",
       "4          37      213105.0       0.0        213105.0   \n",
       "\n",
       "                                             comment  year  logged_in  \\\n",
       "0                          Elected or Electoral? JHK  2002      False   \n",
       "1  Please relate the ozone hole to increases in c...  2002       True   \n",
       "2  `NEWLINE_TOKENNEWLINE_TOKENNEWLINE_TOKENNEWLIN...  2002       True   \n",
       "3  NEWLINE_TOKENNEWLINE_TOKENNEWLINE_TOKEN NEWLIN...  2002       True   \n",
       "4  `NEWLINE_TOKENNEWLINE_TOKEN: I should do that ...  2002       True   \n",
       "\n",
       "        ns  sample split   ...    young  younger  teenage  millenial  \\\n",
       "0  article  random  test   ...    False    False    False      False   \n",
       "1  article  random  test   ...    False    False    False      False   \n",
       "2  article  random  test   ...    False    False    False      False   \n",
       "3     user  random  test   ...    False    False    False      False   \n",
       "4     user  random  test   ...    False    False    False      False   \n",
       "\n",
       "   middle aged  elderly  blind   deaf  paralyzed  newcol  \n",
       "0        False    False  False  False      False       0  \n",
       "1        False    False  False  False      False       0  \n",
       "2        False    False  False  False      False       1  \n",
       "3        False    False  False  False      False       1  \n",
       "4        False    False  False  False      False       1  \n",
       "\n",
       "[5 rows x 62 columns]"
      ]
     },
     "execution_count": 26,
     "metadata": {},
     "output_type": "execute_result"
    }
   ],
   "source": [
    "test_comments.head()"
   ]
  },
  {
   "cell_type": "code",
   "execution_count": 30,
   "metadata": {},
   "outputs": [
    {
     "data": {
      "text/plain": [
       "0    16137\n",
       "1    15729\n",
       "Name: newcol, dtype: int64"
      ]
     },
     "execution_count": 30,
     "metadata": {},
     "output_type": "execute_result"
    }
   ],
   "source": [
    "test_comments['newcol'].value_counts()"
   ]
  },
  {
   "cell_type": "code",
   "execution_count": 31,
   "metadata": {},
   "outputs": [
    {
     "name": "stdout",
     "output_type": "stream",
     "text": [
      "** [(1.4402501675228947, (5, 0)), (1.7345808966861598, (6, 4)), (1.3041505376344085, (3, 5)), (1.4041297935103247, (2, 1)), (1.7200215736801103, (5, 2)), (1.9649122807017543, (6, 1)), (1.8133995037220842, (0, 1)), (1.8752950432730133, (0, 4)), (1.7911547911547911, (5, 1)), (1.3950892857142858, (1, 3))]\n"
     ]
    }
   ],
   "source": [
    "# For each of the perturbed_predictions, append it onto the dataset, find the pairwise DI, and then find the max DI.\n",
    "# Goal: Compute fairness on test dataset.\n",
    "\n",
    "test_data_dis = find_max_dis_of_perturbations(test_comments, perturbed_predictions, madlibs_terms)\n",
    "\n",
    "print(\"**\", test_data_dis)\n",
    "# This is the array of all of the max_dis, and the indexes of the madlibs_terms array that composed that max_di"
   ]
  },
  {
   "cell_type": "code",
   "execution_count": 57,
   "metadata": {},
   "outputs": [
    {
     "name": "stdout",
     "output_type": "stream",
     "text": [
      "[(1.4402501675228947, (5, 0)), (1.7345808966861598, (6, 4)), (1.3041505376344085, (3, 5)), (1.4041297935103247, (2, 1)), (1.7200215736801103, (5, 2)), (1.9649122807017543, (6, 1)), (1.8133995037220842, (0, 1)), (1.8752950432730133, (0, 4)), (1.7911547911547911, (5, 1)), (1.3950892857142858, (1, 3))]\n",
      "[(1.257939308398024, (3, 1)), (1.156601251594872, (3, 2)), (1.0893397177419355, (1, 5)), (1.1231334149326806, (6, 1)), (1.0922787193973635, (0, 1)), (1.2342747496552138, (3, 1)), (1.3535832937826293, (6, 1)), (1.127016129032258, (1, 6)), (1.1337401474701245, (5, 2)), (1.1941434654438257, (6, 4))]\n",
      "[1.257939308398024, 1.156601251594872, 1.0893397177419355, 1.1231334149326806, 1.0922787193973635, 1.2342747496552138, 1.3535832937826293, 1.127016129032258, 1.1337401474701245, 1.1941434654438257]\n",
      "[1.4402501675228947, 1.7345808966861598, 1.3041505376344085, 1.4041297935103247, 1.7200215736801103, 1.9649122807017543, 1.8133995037220842, 1.8752950432730133, 1.7911547911547911, 1.3950892857142858]\n"
     ]
    },
    {
     "data": {
      "text/plain": [
       "(0, 2)"
      ]
     },
     "execution_count": 57,
     "metadata": {},
     "output_type": "execute_result"
    },
    {
     "data": {
      "image/png": "[encoded data removed]",
      "text/plain": [
       "<matplotlib.figure.Figure at 0x1d21fd8af28>"
      ]
     },
     "metadata": {},
     "output_type": "display_data"
    }
   ],
   "source": [
    "# SO THATS IT\n",
    "# compare test_data_dis and training_data_dis for all 10 perturbation differences. \n",
    "\n",
    "print(test_data_dis)\n",
    "print(training_data_dis)\n",
    "\n",
    "training_xs = [item[0] for item in training_data_dis]\n",
    "test_ys = [item[0] for item in test_data_dis]\n",
    "\n",
    "print(training_xs)\n",
    "print(test_ys)\n",
    "\n",
    "plt.plot(training_xs, test_ys, \"ro\")\n",
    "plt.xlim(0, 2)\n",
    "plt.ylim(0, 2)"
   ]
  },
  {
   "cell_type": "code",
   "execution_count": 34,
   "metadata": {},
   "outputs": [
    {
     "data": {
      "text/plain": [
       "[<matplotlib.lines.Line2D at 0x1d183325e10>]"
      ]
     },
     "execution_count": 34,
     "metadata": {},
     "output_type": "execute_result"
    },
    {
     "data": {
      "image/png": "[encoded data removed]",
      "text/plain": [
       "<matplotlib.figure.Figure at 0x1d1831f3a20>"
      ]
     },
     "metadata": {},
     "output_type": "display_data"
    }
   ],
   "source": [
    "plt.plot(training_xs, test_ys, \"ro\")"
   ]
  },
  {
   "cell_type": "code",
   "execution_count": 95,
   "metadata": {},
   "outputs": [],
   "source": [
    "df = pd.DataFrame()"
   ]
  },
  {
   "cell_type": "code",
   "execution_count": 96,
   "metadata": {},
   "outputs": [],
   "source": [
    "df['threshold'] = [10, 20, 30, 40, 50, 60, 70, 80, 90, 100]"
   ]
  },
  {
   "cell_type": "code",
   "execution_count": 97,
   "metadata": {},
   "outputs": [],
   "source": [
    "df['training_DI'] = training_xs"
   ]
  },
  {
   "cell_type": "code",
   "execution_count": 98,
   "metadata": {},
   "outputs": [],
   "source": [
    "df['test_DI'] = test_ys"
   ]
  },
  {
   "cell_type": "code",
   "execution_count": 99,
   "metadata": {},
   "outputs": [],
   "source": [
    "df.columns = ['threshold', 'p1_training_DI', 'p1_test_DI']"
   ]
  },
  {
   "cell_type": "code",
   "execution_count": 100,
   "metadata": {},
   "outputs": [
    {
     "data": {
      "text/html": [
       "<div>\n",
       "<style scoped>\n",
       "    .dataframe tbody tr th:only-of-type {\n",
       "        vertical-align: middle;\n",
       "    }\n",
       "\n",
       "    .dataframe tbody tr th {\n",
       "        vertical-align: top;\n",
       "    }\n",
       "\n",
       "    .dataframe thead th {\n",
       "        text-align: right;\n",
       "    }\n",
       "</style>\n",
       "<table border=\"1\" class=\"dataframe\">\n",
       "  <thead>\n",
       "    <tr style=\"text-align: right;\">\n",
       "      <th></th>\n",
       "      <th>threshold</th>\n",
       "      <th>p1_training_DI</th>\n",
       "      <th>p1_test_DI</th>\n",
       "    </tr>\n",
       "  </thead>\n",
       "  <tbody>\n",
       "    <tr>\n",
       "      <th>0</th>\n",
       "      <td>10</td>\n",
       "      <td>1.257939</td>\n",
       "      <td>1.440250</td>\n",
       "    </tr>\n",
       "    <tr>\n",
       "      <th>1</th>\n",
       "      <td>20</td>\n",
       "      <td>1.156601</td>\n",
       "      <td>1.734581</td>\n",
       "    </tr>\n",
       "    <tr>\n",
       "      <th>2</th>\n",
       "      <td>30</td>\n",
       "      <td>1.089340</td>\n",
       "      <td>1.304151</td>\n",
       "    </tr>\n",
       "    <tr>\n",
       "      <th>3</th>\n",
       "      <td>40</td>\n",
       "      <td>1.123133</td>\n",
       "      <td>1.404130</td>\n",
       "    </tr>\n",
       "    <tr>\n",
       "      <th>4</th>\n",
       "      <td>50</td>\n",
       "      <td>1.092279</td>\n",
       "      <td>1.720022</td>\n",
       "    </tr>\n",
       "  </tbody>\n",
       "</table>\n",
       "</div>"
      ],
      "text/plain": [
       "   threshold  p1_training_DI  p1_test_DI\n",
       "0         10        1.257939    1.440250\n",
       "1         20        1.156601    1.734581\n",
       "2         30        1.089340    1.304151\n",
       "3         40        1.123133    1.404130\n",
       "4         50        1.092279    1.720022"
      ]
     },
     "execution_count": 100,
     "metadata": {},
     "output_type": "execute_result"
    }
   ],
   "source": [
    "df.head()"
   ]
  },
  {
   "cell_type": "code",
   "execution_count": 102,
   "metadata": {},
   "outputs": [],
   "source": [
    "df.to_csv('prob1_threshold_DI.csv')"
   ]
  },
  {
   "cell_type": "markdown",
   "metadata": {},
   "source": [
    "### Neha's notes"
   ]
  },
  {
   "cell_type": "markdown",
   "metadata": {},
   "source": [
    "\"This data set (https://figshare.com/articles/Wikipedia_Talk_Labels_Toxicity/4563973) includes over 100k labeled discussion comments from English Wikipedia. Each comment was labeled by multiple annotators via Crowdflower on whether it is a toxic or healthy contribution. We also include some demographic data for each crowd-worker. See our wiki for documentation of the schema of each file and our research paper for documentation on the data collection and modeling methodology. For a quick demo of how to use the data for model building and analysis, check out this ipython notebook.\" - quote from linked page"
   ]
  },
  {
   "cell_type": "code",
   "execution_count": null,
   "metadata": {},
   "outputs": [],
   "source": [
    "comments = pd.read_csv(\"toxicity_annotated_comments.tsv\"\\\n",
    "                                          , sep = \"\\t\")"
   ]
  },
  {
   "cell_type": "markdown",
   "metadata": {},
   "source": [
    "Copied from documentation: <br>\n",
    "\"Schema for {attack/aggression/toxicity}_annotated_comments.tsv\n",
    "The comment text and metadata for comments with attack/aggression/toxicity labels generated by crowd-workers. The actual labels are in the corresponding {attack/aggression/toxicity}_annotations.tsv since each comment was labeled multiple times.\n",
    "\n",
    "rev_id: MediaWiki revision id of the edit that added the comment to a talk page (i.e. discussion). <br>\n",
    "comment: Comment text. Consists of the concatenation of content added during a revision/edit of a talk page. MediaWiki markup and HTML have been stripped out. To simplify tsv parsing, \\n has been mapped to NEWLINE_TOKEN, \\t has been mapped to TAB_TOKEN and \" has been mapped to `. <br>\n",
    "year: The year the comment was posted in. <br>\n",
    "logged_in: Indicator for whether the user who made the comment was logged in. Takes on values in {0, 1}. <br>\n",
    "ns: Namespace of the discussion page the comment was made in. Takes on values in {user, article}. <br>\n",
    "sample: Indicates whether the comment came via random sampling of all comments, or whether it came from random sampling of the 5 comments around a block event for violating WP:npa or WP:HA. Takes on values in {random, blocked}. <br>\n",
    "split: For model building in our paper we split comments into train, dev and test sets. Takes on values in {train, dev, test}.\"\n",
    "<br>\n",
    "\n",
    "My notes: <br> \n",
    "I don't know enough about how natural language processing works, but from the snippets that I do know, I imagine that the really really long comments probably aren't very good at being classified even. I also wonder about how bigram toxicity works and whether this is something the training data accounts for (eg \"nasty woman\" vs \"nasty\" has different sources of problems). What are they classifying on/why does this work? We can see Figure 1 in the Dixon paper for comment length and should be able to filter there. I wonder if the phrase templating of classification works for the problems that I raise of large comment length and bigrams. Is this an issue we should be dealing with?\n",
    "Also, an easier couple of questions are: what does the ns and sample really mean?"
   ]
  },
  {
   "cell_type": "code",
   "execution_count": null,
   "metadata": {},
   "outputs": [],
   "source": [
    "comments.head()"
   ]
  },
  {
   "cell_type": "markdown",
   "metadata": {},
   "source": [
    "Copied from documentation:\n",
    "        Schema for toxicity_annotations.tsv\n",
    "    Toxicity labels from several crowd-workers for each comment in toxicity_annotated_comments.tsv. It can be joined with toxicity_annotated_comments.tsv on rev_id.\n",
    "\n",
    "rev_id: MediaWiki revision id of the edit that added the comment to a talk page (i.e. discussion). <br>\n",
    "worker_id: Anonymized crowd-worker id.<br>\n",
    "toxicity_score: Categorical variable ranging from very toxic (-2), to neutral (0), to very healthy (2). <br>\n",
    "toxicity: Indicator variable for whether the worker thought the comment is toxic. The annotation takes on the value 1 if the worker considered the comment toxic (i.e worker gave a toxicity_score less than 0) and value 0 if the worker considered the comment neutral or healthy (i.e worker gave a toxicity_score greater or equal to 0). Takes on values in {0, 1}.\n",
    "\n",
    "My notes:\n",
    "Things to explore is how many people rated each thing? The paper said 10, but I would like to confirm this. "
   ]
  },
  {
   "cell_type": "code",
   "execution_count": null,
   "metadata": {},
   "outputs": [],
   "source": [
    "annotations = pd.read_csv(\"toxicity_annotations.tsv\"\\\n",
    "                                          , sep = \"\\t\")"
   ]
  },
  {
   "cell_type": "markdown",
   "metadata": {},
   "source": [
    "My comment:\n",
    "    This isn't really one we'll be using until much later, if/when we decide we're doing a perturbation using demographic data. Would first want to check to see what kind of correlations might/do exist between gender/rating and see how they rate comments about women, for example.\n",
    "    \n",
    "\n",
    "Copied from documentation:\n",
    "\n",
    "Schema for {attack/aggression/toxicity}_worker_demographics.tsv\n",
    "Demographic information about the crowdworkers. This information was obtained by an optional demographic survey administered after the labelling task. It is meant to be joined with {attack/aggression/toxicity}_annotations.tsv on worker_id. Some fields may be blank if left unanswered.\n",
    "\n",
    "worker_id: Anonymized crowd-worker id. <br>\n",
    "gender: The gender of the crowd-worker. Takes a value in {'male', 'female', and 'other'}. <br>\n",
    "english_first_language: Does the crowd-worker describe English as their first language. Takes a value in {0, 1}.<br>\n",
    "age_group: The age group of the crowd-worker. Takes on values in {'Under 18', '18-30', '30-45', '45-60', 'Over 60'}.<br>\n",
    "education: The highest education level obtained by the crowd-worker. Takes on values in {'none', 'some', 'hs', 'bachelors', 'masters', 'doctorate', 'professional'}. Here 'none' means no schooling, some means 'some schooling', 'hs' means high school completion, and the remaining terms indicate completion of the corresponding degree type.\n"
   ]
  }
 ],
 "metadata": {
  "kernelspec": {
   "display_name": "Python 3",
   "language": "python",
   "name": "python3"
  },
  "language_info": {
   "codemirror_mode": {
    "name": "ipython",
    "version": 3
   },
   "file_extension": ".py",
   "mimetype": "text/x-python",
   "name": "python",
   "nbconvert_exporter": "python",
   "pygments_lexer": "ipython3",
   "version": "3.6.4"
  }
 },
 "nbformat": 4,
 "nbformat_minor": 2
}
