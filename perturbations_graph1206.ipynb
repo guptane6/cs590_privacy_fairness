{
 "cells": [
  {
   "cell_type": "code",
   "execution_count": 1,
   "metadata": {},
   "outputs": [],
   "source": [
    "import numpy as np\n",
    "import pandas as pd\n",
    "import matplotlib.pyplot as plt"
   ]
  },
  {
   "cell_type": "code",
   "execution_count": 2,
   "metadata": {},
   "outputs": [],
   "source": [
    "fourths = pd.read_csv('results/perturbation_results.csv')"
   ]
  },
  {
   "cell_type": "code",
   "execution_count": 3,
   "metadata": {},
   "outputs": [],
   "source": [
    "eighths = pd.read_csv('results/perturbation_results_eighths.csv')"
   ]
  },
  {
   "cell_type": "code",
   "execution_count": 4,
   "metadata": {},
   "outputs": [
    {
     "data": {
      "text/html": [
       "<div>\n",
       "<style scoped>\n",
       "    .dataframe tbody tr th:only-of-type {\n",
       "        vertical-align: middle;\n",
       "    }\n",
       "\n",
       "    .dataframe tbody tr th {\n",
       "        vertical-align: top;\n",
       "    }\n",
       "\n",
       "    .dataframe thead th {\n",
       "        text-align: right;\n",
       "    }\n",
       "</style>\n",
       "<table border=\"1\" class=\"dataframe\">\n",
       "  <thead>\n",
       "    <tr style=\"text-align: right;\">\n",
       "      <th></th>\n",
       "      <th>Unnamed: 0</th>\n",
       "      <th>p</th>\n",
       "      <th>logDI_train</th>\n",
       "      <th>logDI_test</th>\n",
       "    </tr>\n",
       "  </thead>\n",
       "  <tbody>\n",
       "    <tr>\n",
       "      <th>0</th>\n",
       "      <td>0</td>\n",
       "      <td>0.0</td>\n",
       "      <td>25.3993</td>\n",
       "      <td>36.212228</td>\n",
       "    </tr>\n",
       "    <tr>\n",
       "      <th>1</th>\n",
       "      <td>1</td>\n",
       "      <td>0.0</td>\n",
       "      <td>25.3993</td>\n",
       "      <td>36.212228</td>\n",
       "    </tr>\n",
       "    <tr>\n",
       "      <th>2</th>\n",
       "      <td>2</td>\n",
       "      <td>0.0</td>\n",
       "      <td>25.3993</td>\n",
       "      <td>36.212228</td>\n",
       "    </tr>\n",
       "    <tr>\n",
       "      <th>3</th>\n",
       "      <td>3</td>\n",
       "      <td>0.0</td>\n",
       "      <td>25.3993</td>\n",
       "      <td>36.212228</td>\n",
       "    </tr>\n",
       "    <tr>\n",
       "      <th>4</th>\n",
       "      <td>4</td>\n",
       "      <td>0.0</td>\n",
       "      <td>25.3993</td>\n",
       "      <td>36.212228</td>\n",
       "    </tr>\n",
       "  </tbody>\n",
       "</table>\n",
       "</div>"
      ],
      "text/plain": [
       "   Unnamed: 0    p  logDI_train  logDI_test\n",
       "0           0  0.0      25.3993   36.212228\n",
       "1           1  0.0      25.3993   36.212228\n",
       "2           2  0.0      25.3993   36.212228\n",
       "3           3  0.0      25.3993   36.212228\n",
       "4           4  0.0      25.3993   36.212228"
      ]
     },
     "execution_count": 4,
     "metadata": {},
     "output_type": "execute_result"
    }
   ],
   "source": [
    "fourths.head()"
   ]
  },
  {
   "cell_type": "code",
   "execution_count": 5,
   "metadata": {},
   "outputs": [
    {
     "data": {
      "text/html": [
       "<div>\n",
       "<style scoped>\n",
       "    .dataframe tbody tr th:only-of-type {\n",
       "        vertical-align: middle;\n",
       "    }\n",
       "\n",
       "    .dataframe tbody tr th {\n",
       "        vertical-align: top;\n",
       "    }\n",
       "\n",
       "    .dataframe thead th {\n",
       "        text-align: right;\n",
       "    }\n",
       "</style>\n",
       "<table border=\"1\" class=\"dataframe\">\n",
       "  <thead>\n",
       "    <tr style=\"text-align: right;\">\n",
       "      <th></th>\n",
       "      <th>Unnamed: 0</th>\n",
       "      <th>p</th>\n",
       "      <th>logDI_train</th>\n",
       "      <th>logDI_test</th>\n",
       "    </tr>\n",
       "  </thead>\n",
       "  <tbody>\n",
       "    <tr>\n",
       "      <th>0</th>\n",
       "      <td>0</td>\n",
       "      <td>0.125</td>\n",
       "      <td>15.704227</td>\n",
       "      <td>41.088204</td>\n",
       "    </tr>\n",
       "    <tr>\n",
       "      <th>1</th>\n",
       "      <td>1</td>\n",
       "      <td>0.125</td>\n",
       "      <td>15.613400</td>\n",
       "      <td>38.412525</td>\n",
       "    </tr>\n",
       "    <tr>\n",
       "      <th>2</th>\n",
       "      <td>2</td>\n",
       "      <td>0.125</td>\n",
       "      <td>16.740273</td>\n",
       "      <td>41.261976</td>\n",
       "    </tr>\n",
       "    <tr>\n",
       "      <th>3</th>\n",
       "      <td>3</td>\n",
       "      <td>0.125</td>\n",
       "      <td>15.157190</td>\n",
       "      <td>40.886355</td>\n",
       "    </tr>\n",
       "    <tr>\n",
       "      <th>4</th>\n",
       "      <td>4</td>\n",
       "      <td>0.125</td>\n",
       "      <td>15.306276</td>\n",
       "      <td>40.768843</td>\n",
       "    </tr>\n",
       "  </tbody>\n",
       "</table>\n",
       "</div>"
      ],
      "text/plain": [
       "   Unnamed: 0      p  logDI_train  logDI_test\n",
       "0           0  0.125    15.704227   41.088204\n",
       "1           1  0.125    15.613400   38.412525\n",
       "2           2  0.125    16.740273   41.261976\n",
       "3           3  0.125    15.157190   40.886355\n",
       "4           4  0.125    15.306276   40.768843"
      ]
     },
     "execution_count": 5,
     "metadata": {},
     "output_type": "execute_result"
    }
   ],
   "source": [
    "eighths.head()"
   ]
  },
  {
   "cell_type": "code",
   "execution_count": 6,
   "metadata": {},
   "outputs": [],
   "source": [
    "frames = [fourths, eighths]\n",
    "pert_results = pd.concat(frames)"
   ]
  },
  {
   "cell_type": "code",
   "execution_count": 7,
   "metadata": {},
   "outputs": [],
   "source": [
    "pert_results.to_csv('perturbation_results_concat.csv')"
   ]
  },
  {
   "cell_type": "code",
   "execution_count": 2,
   "metadata": {},
   "outputs": [],
   "source": [
    "# pert_results = pd.read_csv('results/perturbation_results.csv')"
   ]
  },
  {
   "cell_type": "code",
   "execution_count": 14,
   "metadata": {},
   "outputs": [],
   "source": [
    "groupby_p = pert_results.groupby('p').agg(np.mean)"
   ]
  },
  {
   "cell_type": "code",
   "execution_count": 15,
   "metadata": {},
   "outputs": [
    {
     "data": {
      "text/html": [
       "<div>\n",
       "<style scoped>\n",
       "    .dataframe tbody tr th:only-of-type {\n",
       "        vertical-align: middle;\n",
       "    }\n",
       "\n",
       "    .dataframe tbody tr th {\n",
       "        vertical-align: top;\n",
       "    }\n",
       "\n",
       "    .dataframe thead th {\n",
       "        text-align: right;\n",
       "    }\n",
       "</style>\n",
       "<table border=\"1\" class=\"dataframe\">\n",
       "  <thead>\n",
       "    <tr style=\"text-align: right;\">\n",
       "      <th></th>\n",
       "      <th>Unnamed: 0</th>\n",
       "      <th>logDI_train</th>\n",
       "      <th>logDI_test</th>\n",
       "    </tr>\n",
       "    <tr>\n",
       "      <th>p</th>\n",
       "      <th></th>\n",
       "      <th></th>\n",
       "      <th></th>\n",
       "    </tr>\n",
       "  </thead>\n",
       "  <tbody>\n",
       "    <tr>\n",
       "      <th>0.000</th>\n",
       "      <td>12</td>\n",
       "      <td>25.399300</td>\n",
       "      <td>36.212228</td>\n",
       "    </tr>\n",
       "    <tr>\n",
       "      <th>0.125</th>\n",
       "      <td>12</td>\n",
       "      <td>15.380144</td>\n",
       "      <td>40.426093</td>\n",
       "    </tr>\n",
       "    <tr>\n",
       "      <th>0.250</th>\n",
       "      <td>37</td>\n",
       "      <td>9.166004</td>\n",
       "      <td>41.972126</td>\n",
       "    </tr>\n",
       "    <tr>\n",
       "      <th>0.375</th>\n",
       "      <td>37</td>\n",
       "      <td>5.772560</td>\n",
       "      <td>41.576453</td>\n",
       "    </tr>\n",
       "    <tr>\n",
       "      <th>0.500</th>\n",
       "      <td>62</td>\n",
       "      <td>3.255663</td>\n",
       "      <td>37.628143</td>\n",
       "    </tr>\n",
       "  </tbody>\n",
       "</table>\n",
       "</div>"
      ],
      "text/plain": [
       "       Unnamed: 0  logDI_train  logDI_test\n",
       "p                                         \n",
       "0.000          12    25.399300   36.212228\n",
       "0.125          12    15.380144   40.426093\n",
       "0.250          37     9.166004   41.972126\n",
       "0.375          37     5.772560   41.576453\n",
       "0.500          62     3.255663   37.628143"
      ]
     },
     "execution_count": 15,
     "metadata": {},
     "output_type": "execute_result"
    }
   ],
   "source": [
    "groupby_p.head()"
   ]
  },
  {
   "cell_type": "code",
   "execution_count": 34,
   "metadata": {},
   "outputs": [
    {
     "data": {
      "text/plain": [
       "0.875    25\n",
       "0.625    25\n",
       "0.375    25\n",
       "0.125    25\n",
       "1.000    25\n",
       "0.750    25\n",
       "0.500    25\n",
       "0.250    25\n",
       "0.000    25\n",
       "Name: p, dtype: int64"
      ]
     },
     "execution_count": 34,
     "metadata": {},
     "output_type": "execute_result"
    }
   ],
   "source": [
    "pert_results.p.value_counts()"
   ]
  },
  {
   "cell_type": "code",
   "execution_count": 42,
   "metadata": {},
   "outputs": [
    {
     "data": {
      "image/png": "[encoded data removed]",
      "text/plain": [
       "<Figure size 1080x720 with 1 Axes>"
      ]
     },
     "metadata": {},
     "output_type": "display_data"
    }
   ],
   "source": [
    "fig = plt.figure(figsize=(15,10))\n",
    "ax1 = fig.add_subplot(111)\n",
    "\n",
    "ax1.scatter(pert_results['p'], pert_results['logDI_train'], c='b', label='Training data')\n",
    "# z_train = np.polyfit(pert_results['p'], pert_results['logDI_train'], 1)\n",
    "# p_train = np.poly1d(z_train)\n",
    "# ax1.plot(pert_results['p'], p_train(pert_results['p']), \"b--\")\n",
    "\n",
    "ax1.scatter(pert_results['p'], pert_results['logDI_test'], c='r', label='Test data')\n",
    "# z_test = np.polyfit(pert_results['p'], pert_results['logDI_test'], 1)\n",
    "# p_test = np.poly1d(z_test)\n",
    "# ax1.plot(pert_results['p'], p_test(pert_results['p']), \"r--\")\n",
    "\n",
    "ax1.plot(groupby_p.logDI_train, label='_nolegend_')\n",
    "ax1.plot(groupby_p.logDI_test, label='_nolegend_')\n",
    "\n",
    "plt.xticks([float(x)/1000 for x in range(0,1125,125)], fontsize=12)\n",
    "ax1.set_yticklabels(np.arange(0, 60, 10), fontsize=12)\n",
    "plt.title(\"Disparate impact falls as p increases\", fontsize=20)\n",
    "plt.xlabel(\"Proportion (p) of comments with synthetic labels\", fontsize=20)\n",
    "plt.ylabel(\"LogDI\", fontsize=20)\n",
    "plt.legend()\n",
    "plt.savefig('figures/perturbations_graph1206.png', bbox_inches='tight')\n",
    "\n",
    "plt.show()"
   ]
  },
  {
   "cell_type": "code",
   "execution_count": 38,
   "metadata": {},
   "outputs": [
    {
     "data": {
      "text/plain": [
       "[0.0, 0.125, 0.25, 0.375, 0.5, 0.625, 0.75, 0.875, 1.0]"
      ]
     },
     "execution_count": 38,
     "metadata": {},
     "output_type": "execute_result"
    }
   ],
   "source": [
    "[float(x)/1000 for x in range(0,1125,125)]"
   ]
  },
  {
   "cell_type": "code",
   "execution_count": 3,
   "metadata": {},
   "outputs": [
    {
     "data": {
      "text/html": [
       "<div>\n",
       "<style scoped>\n",
       "    .dataframe tbody tr th:only-of-type {\n",
       "        vertical-align: middle;\n",
       "    }\n",
       "\n",
       "    .dataframe tbody tr th {\n",
       "        vertical-align: top;\n",
       "    }\n",
       "\n",
       "    .dataframe thead th {\n",
       "        text-align: right;\n",
       "    }\n",
       "</style>\n",
       "<table border=\"1\" class=\"dataframe\">\n",
       "  <thead>\n",
       "    <tr style=\"text-align: right;\">\n",
       "      <th></th>\n",
       "      <th>Unnamed: 0</th>\n",
       "      <th>p</th>\n",
       "      <th>logDI_train</th>\n",
       "      <th>logDI_test</th>\n",
       "    </tr>\n",
       "  </thead>\n",
       "  <tbody>\n",
       "    <tr>\n",
       "      <th>0</th>\n",
       "      <td>0</td>\n",
       "      <td>0.0</td>\n",
       "      <td>25.3993</td>\n",
       "      <td>36.212228</td>\n",
       "    </tr>\n",
       "    <tr>\n",
       "      <th>1</th>\n",
       "      <td>1</td>\n",
       "      <td>0.0</td>\n",
       "      <td>25.3993</td>\n",
       "      <td>36.212228</td>\n",
       "    </tr>\n",
       "    <tr>\n",
       "      <th>2</th>\n",
       "      <td>2</td>\n",
       "      <td>0.0</td>\n",
       "      <td>25.3993</td>\n",
       "      <td>36.212228</td>\n",
       "    </tr>\n",
       "    <tr>\n",
       "      <th>3</th>\n",
       "      <td>3</td>\n",
       "      <td>0.0</td>\n",
       "      <td>25.3993</td>\n",
       "      <td>36.212228</td>\n",
       "    </tr>\n",
       "    <tr>\n",
       "      <th>4</th>\n",
       "      <td>4</td>\n",
       "      <td>0.0</td>\n",
       "      <td>25.3993</td>\n",
       "      <td>36.212228</td>\n",
       "    </tr>\n",
       "  </tbody>\n",
       "</table>\n",
       "</div>"
      ],
      "text/plain": [
       "   Unnamed: 0    p  logDI_train  logDI_test\n",
       "0           0  0.0      25.3993   36.212228\n",
       "1           1  0.0      25.3993   36.212228\n",
       "2           2  0.0      25.3993   36.212228\n",
       "3           3  0.0      25.3993   36.212228\n",
       "4           4  0.0      25.3993   36.212228"
      ]
     },
     "execution_count": 3,
     "metadata": {},
     "output_type": "execute_result"
    }
   ],
   "source": [
    "pert_results.head()"
   ]
  },
  {
   "cell_type": "code",
   "execution_count": 14,
   "metadata": {},
   "outputs": [
    {
     "data": {
      "text/html": [
       "<div>\n",
       "<style scoped>\n",
       "    .dataframe tbody tr th:only-of-type {\n",
       "        vertical-align: middle;\n",
       "    }\n",
       "\n",
       "    .dataframe tbody tr th {\n",
       "        vertical-align: top;\n",
       "    }\n",
       "\n",
       "    .dataframe thead th {\n",
       "        text-align: right;\n",
       "    }\n",
       "</style>\n",
       "<table border=\"1\" class=\"dataframe\">\n",
       "  <thead>\n",
       "    <tr style=\"text-align: right;\">\n",
       "      <th></th>\n",
       "      <th>Unnamed: 0</th>\n",
       "      <th>p</th>\n",
       "      <th>logDI_train</th>\n",
       "      <th>logDI_test</th>\n",
       "    </tr>\n",
       "  </thead>\n",
       "  <tbody>\n",
       "    <tr>\n",
       "      <th>25</th>\n",
       "      <td>25</td>\n",
       "      <td>0.25</td>\n",
       "      <td>10.620912</td>\n",
       "      <td>45.219664</td>\n",
       "    </tr>\n",
       "    <tr>\n",
       "      <th>26</th>\n",
       "      <td>26</td>\n",
       "      <td>0.25</td>\n",
       "      <td>9.266180</td>\n",
       "      <td>38.871566</td>\n",
       "    </tr>\n",
       "    <tr>\n",
       "      <th>27</th>\n",
       "      <td>27</td>\n",
       "      <td>0.25</td>\n",
       "      <td>9.370124</td>\n",
       "      <td>40.584482</td>\n",
       "    </tr>\n",
       "    <tr>\n",
       "      <th>28</th>\n",
       "      <td>28</td>\n",
       "      <td>0.25</td>\n",
       "      <td>8.516764</td>\n",
       "      <td>44.906993</td>\n",
       "    </tr>\n",
       "    <tr>\n",
       "      <th>29</th>\n",
       "      <td>29</td>\n",
       "      <td>0.25</td>\n",
       "      <td>9.694544</td>\n",
       "      <td>39.790125</td>\n",
       "    </tr>\n",
       "  </tbody>\n",
       "</table>\n",
       "</div>"
      ],
      "text/plain": [
       "    Unnamed: 0     p  logDI_train  logDI_test\n",
       "25          25  0.25    10.620912   45.219664\n",
       "26          26  0.25     9.266180   38.871566\n",
       "27          27  0.25     9.370124   40.584482\n",
       "28          28  0.25     8.516764   44.906993\n",
       "29          29  0.25     9.694544   39.790125"
      ]
     },
     "execution_count": 14,
     "metadata": {},
     "output_type": "execute_result"
    }
   ],
   "source": [
    "pert_results[(pert_results.p > 0) & (pert_results.p < 1)].head()"
   ]
  },
  {
   "cell_type": "code",
   "execution_count": 19,
   "metadata": {},
   "outputs": [
    {
     "data": {
      "image/png": "[encoded data removed]",
      "text/plain": [
       "<Figure size 432x288 with 1 Axes>"
      ]
     },
     "metadata": {},
     "output_type": "display_data"
    }
   ],
   "source": [
    "plt.figsize=(15,10)\n",
    "plt.scatter(pert_results[(pert_results.p > 0) & (pert_results.p < 1)].logDI_train, \\\n",
    "            pert_results[(pert_results.p > 0) & (pert_results.p < 1)].logDI_test)\n",
    "\n",
    "# plt.title(\"\", fontsize=20)\n",
    "plt.xlabel(\"LogDI of training data\", fontsize=15)\n",
    "plt.ylabel(\"LogDI of test data\", fontsize=15)\n",
    "plt.savefig('figures/logDItrainvstest', bbox_inches='tight')\n",
    "\n",
    "plt.show()"
   ]
  },
  {
   "cell_type": "code",
   "execution_count": 24,
   "metadata": {},
   "outputs": [
    {
     "data": {
      "text/plain": [
       "array([0.25 , 0.5  , 0.75 , 1.   , 0.125, 0.375, 0.625, 0.875])"
      ]
     },
     "execution_count": 24,
     "metadata": {},
     "output_type": "execute_result"
    }
   ],
   "source": [
    "pert_results.p.unique()[1:len(pert_results.p.unique()-1)]"
   ]
  },
  {
   "cell_type": "code",
   "execution_count": 29,
   "metadata": {},
   "outputs": [
    {
     "data": {
      "image/png": "[encoded data removed]",
      "text/plain": [
       "<Figure size 1080x720 with 1 Axes>"
      ]
     },
     "metadata": {},
     "output_type": "display_data"
    }
   ],
   "source": [
    "fig = plt.figure(figsize=(15,10))\n",
    "ax1 = fig.add_subplot(111)\n",
    "\n",
    "for i in pert_results.p.unique()[1:len(pert_results.p.unique()-1)]:\n",
    "    ax1.scatter(pert_results[pert_results.p==i].logDI_train, pert_results[pert_results.p==i].logDI_test, c=\"g\")    \n",
    "    \n",
    "# ax1.scatter(pert_results[pert_results.p==0.25].logDI_train, pert_results[pert_results.p==0.25].logDI_test, \\\n",
    "#            label=\"p = 0.25\")\n",
    "# ax1.scatter(pert_results[pert_results.p==0.50].logDI_train, pert_results[pert_results.p==0.50].logDI_test, \\\n",
    "#            label=\"p = 0.50\")\n",
    "# ax1.scatter(pert_results[pert_results.p==0.75].logDI_train, pert_results[pert_results.p==0.75].logDI_test, \\\n",
    "#            label=\"p = 0.75\")\n",
    "\n",
    "# plt.title(\"\", fontsize=20)\n",
    "plt.xlabel(\"LogDI of training data\", fontsize=15)\n",
    "plt.ylabel(\"LogDI of test data\", fontsize=15)\n",
    "# plt.legend()\n",
    "\n",
    "plt.savefig('figures/logDItrainvstest_moredata.png', bbox_inches='tight')\n",
    "plt.show()"
   ]
  },
  {
   "cell_type": "code",
   "execution_count": null,
   "metadata": {},
   "outputs": [],
   "source": []
  }
 ],
 "metadata": {
  "kernelspec": {
   "display_name": "Python 3",
   "language": "python",
   "name": "python3"
  },
  "language_info": {
   "codemirror_mode": {
    "name": "ipython",
    "version": 3
   },
   "file_extension": ".py",
   "mimetype": "text/x-python",
   "name": "python",
   "nbconvert_exporter": "python",
   "pygments_lexer": "ipython3",
   "version": "3.6.5"
  }
 },
 "nbformat": 4,
 "nbformat_minor": 2
}
