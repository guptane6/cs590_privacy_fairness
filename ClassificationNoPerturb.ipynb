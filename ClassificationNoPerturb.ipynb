{
 "cells": [
  {
   "cell_type": "code",
   "execution_count": 1,
   "metadata": {},
   "outputs": [],
   "source": [
    "import pandas as pd\n",
    "import numpy as np\n",
    "from sklearn.pipeline import Pipeline\n",
    "from sklearn.feature_extraction.text import CountVectorizer\n",
    "from sklearn.feature_extraction.text import TfidfTransformer\n",
    "from sklearn.linear_model import LogisticRegression\n",
    "from sklearn.metrics import roc_auc_score\n",
    "import model_bias_analysis"
   ]
  },
  {
   "cell_type": "code",
   "execution_count": 2,
   "metadata": {},
   "outputs": [],
   "source": [
    "joined_tox = pd.read_csv('joined_tox.csv')\n",
    "train_comments = pd.read_csv('train_comments.csv')\n",
    "test_comments = pd.read_csv('test_comments.csv')\n",
    "madlibs_terms = model_bias_analysis.read_identity_terms('adjectives_people.txt')"
   ]
  },
  {
   "cell_type": "code",
   "execution_count": 3,
   "metadata": {},
   "outputs": [
    {
     "name": "stdout",
     "output_type": "stream",
     "text": [
      "Test ROC AUC: 0.951\n"
     ]
    }
   ],
   "source": [
    "\n",
    "clf = Pipeline([\n",
    "    ('vect', CountVectorizer(max_features = 10000, ngram_range = (1,2))),\n",
    "    ('tfidf', TfidfTransformer(norm = 'l2')),\n",
    "    ('clf', LogisticRegression()),\n",
    "])\n",
    "\n",
    "clf = clf.fit(train_comments['comment'], train_comments['binary_tox'])\n",
    "auc = roc_auc_score(test_comments['binary_tox'], clf.predict_proba(test_comments['comment'])[:, 1])\n",
    "print('Test ROC AUC: %.3f' %auc)"
   ]
  },
  {
   "cell_type": "code",
   "execution_count": 4,
   "metadata": {},
   "outputs": [],
   "source": [
    "test_comments[\"predicted\"] = clf.predict(test_comments['comment'])"
   ]
  },
  {
   "cell_type": "code",
   "execution_count": 5,
   "metadata": {},
   "outputs": [
    {
     "data": {
      "text/plain": [
       "Index(['Unnamed: 0', 'rev_idrev_id', 'toxicity', 'rev_idrev_id.1', 'comment',\n",
       "       'year', 'logged_in', 'ns', 'sample', 'split', 'binary_tox', 'predicted',\n",
       "       'lesbian', 'gay', 'bisexual', 'transgender', 'trans', 'queer', 'lgbt',\n",
       "       'lgbtq', 'homosexual', 'straight', 'heterosexual', 'male', 'female',\n",
       "       'nonbinary', 'african', 'african american', 'black', 'white',\n",
       "       'european', 'hispanic', 'latino', 'latina', 'latinx', 'mexican',\n",
       "       'canadian', 'american', 'asian', 'indian', 'middle eastern', 'chinese',\n",
       "       'japanese', 'christian', 'muslim', 'jewish', 'buddhist', 'catholic',\n",
       "       'protestant', 'sikh', 'taoist', 'old', 'older', 'young', 'younger',\n",
       "       'teenage', 'millenial', 'middle aged', 'elderly', 'blind', 'deaf',\n",
       "       'paralyzed'],\n",
       "      dtype='object')"
      ]
     },
     "execution_count": 5,
     "metadata": {},
     "output_type": "execute_result"
    }
   ],
   "source": [
    "test_comments.columns"
   ]
  },
  {
   "cell_type": "code",
   "execution_count": 6,
   "metadata": {},
   "outputs": [],
   "source": [
    "# An example of a comment predicted to be toxic.\n",
    "# test_comments[test_comments['predicted'] == 1]['comment'][1649]#['comment']#.value_counts()"
   ]
  },
  {
   "cell_type": "code",
   "execution_count": 7,
   "metadata": {},
   "outputs": [
    {
     "data": {
      "text/html": [
       "<div>\n",
       "<style scoped>\n",
       "    .dataframe tbody tr th:only-of-type {\n",
       "        vertical-align: middle;\n",
       "    }\n",
       "\n",
       "    .dataframe tbody tr th {\n",
       "        vertical-align: top;\n",
       "    }\n",
       "\n",
       "    .dataframe thead th {\n",
       "        text-align: right;\n",
       "    }\n",
       "</style>\n",
       "<table border=\"1\" class=\"dataframe\">\n",
       "  <thead>\n",
       "    <tr style=\"text-align: right;\">\n",
       "      <th></th>\n",
       "      <th>Unnamed: 0</th>\n",
       "      <th>rev_idrev_id</th>\n",
       "      <th>toxicity</th>\n",
       "      <th>rev_idrev_id.1</th>\n",
       "      <th>comment</th>\n",
       "      <th>year</th>\n",
       "      <th>logged_in</th>\n",
       "      <th>ns</th>\n",
       "      <th>sample</th>\n",
       "      <th>split</th>\n",
       "      <th>...</th>\n",
       "      <th>older</th>\n",
       "      <th>young</th>\n",
       "      <th>younger</th>\n",
       "      <th>teenage</th>\n",
       "      <th>millenial</th>\n",
       "      <th>middle aged</th>\n",
       "      <th>elderly</th>\n",
       "      <th>blind</th>\n",
       "      <th>deaf</th>\n",
       "      <th>paralyzed</th>\n",
       "    </tr>\n",
       "  </thead>\n",
       "  <tbody>\n",
       "    <tr>\n",
       "      <th>149</th>\n",
       "      <td>829</td>\n",
       "      <td>5815399.0</td>\n",
       "      <td>0.7</td>\n",
       "      <td>5815399.0</td>\n",
       "      <td>NEWLINE_TOKENNEWLINE_TOKENIt was anonymous on ...</td>\n",
       "      <td>2004</td>\n",
       "      <td>True</td>\n",
       "      <td>article</td>\n",
       "      <td>random</td>\n",
       "      <td>test</td>\n",
       "      <td>...</td>\n",
       "      <td>False</td>\n",
       "      <td>False</td>\n",
       "      <td>False</td>\n",
       "      <td>False</td>\n",
       "      <td>False</td>\n",
       "      <td>False</td>\n",
       "      <td>False</td>\n",
       "      <td>False</td>\n",
       "      <td>False</td>\n",
       "      <td>False</td>\n",
       "    </tr>\n",
       "    <tr>\n",
       "      <th>232</th>\n",
       "      <td>1227</td>\n",
       "      <td>8357736.0</td>\n",
       "      <td>0.3</td>\n",
       "      <td>8357736.0</td>\n",
       "      <td>NEWLINE_TOKENNEWLINE_TOKENYou are a child.</td>\n",
       "      <td>2004</td>\n",
       "      <td>True</td>\n",
       "      <td>user</td>\n",
       "      <td>blocked</td>\n",
       "      <td>test</td>\n",
       "      <td>...</td>\n",
       "      <td>False</td>\n",
       "      <td>False</td>\n",
       "      <td>False</td>\n",
       "      <td>False</td>\n",
       "      <td>False</td>\n",
       "      <td>False</td>\n",
       "      <td>False</td>\n",
       "      <td>False</td>\n",
       "      <td>False</td>\n",
       "      <td>False</td>\n",
       "    </tr>\n",
       "    <tr>\n",
       "      <th>233</th>\n",
       "      <td>1228</td>\n",
       "      <td>8359431.0</td>\n",
       "      <td>0.5</td>\n",
       "      <td>8359431.0</td>\n",
       "      <td>`NEWLINE_TOKENNEWLINE_TOKEN::You are not worth...</td>\n",
       "      <td>2004</td>\n",
       "      <td>True</td>\n",
       "      <td>user</td>\n",
       "      <td>blocked</td>\n",
       "      <td>test</td>\n",
       "      <td>...</td>\n",
       "      <td>False</td>\n",
       "      <td>False</td>\n",
       "      <td>False</td>\n",
       "      <td>False</td>\n",
       "      <td>False</td>\n",
       "      <td>False</td>\n",
       "      <td>False</td>\n",
       "      <td>False</td>\n",
       "      <td>False</td>\n",
       "      <td>False</td>\n",
       "    </tr>\n",
       "    <tr>\n",
       "      <th>258</th>\n",
       "      <td>1348</td>\n",
       "      <td>8845700.0</td>\n",
       "      <td>1.0</td>\n",
       "      <td>8845700.0</td>\n",
       "      <td>NEWLINE_TOKENNEWLINE_TOKENi am using the sandb...</td>\n",
       "      <td>2004</td>\n",
       "      <td>False</td>\n",
       "      <td>user</td>\n",
       "      <td>blocked</td>\n",
       "      <td>test</td>\n",
       "      <td>...</td>\n",
       "      <td>False</td>\n",
       "      <td>False</td>\n",
       "      <td>False</td>\n",
       "      <td>False</td>\n",
       "      <td>False</td>\n",
       "      <td>False</td>\n",
       "      <td>False</td>\n",
       "      <td>False</td>\n",
       "      <td>False</td>\n",
       "      <td>False</td>\n",
       "    </tr>\n",
       "    <tr>\n",
       "      <th>288</th>\n",
       "      <td>1521</td>\n",
       "      <td>9664203.0</td>\n",
       "      <td>0.8</td>\n",
       "      <td>9664203.0</td>\n",
       "      <td>NEWLINE_TOKENNEWLINE_TOKEN== whoa ==NEWLINE_TO...</td>\n",
       "      <td>2005</td>\n",
       "      <td>False</td>\n",
       "      <td>user</td>\n",
       "      <td>blocked</td>\n",
       "      <td>test</td>\n",
       "      <td>...</td>\n",
       "      <td>False</td>\n",
       "      <td>False</td>\n",
       "      <td>False</td>\n",
       "      <td>False</td>\n",
       "      <td>False</td>\n",
       "      <td>False</td>\n",
       "      <td>False</td>\n",
       "      <td>False</td>\n",
       "      <td>False</td>\n",
       "      <td>False</td>\n",
       "    </tr>\n",
       "  </tbody>\n",
       "</table>\n",
       "<p>5 rows × 62 columns</p>\n",
       "</div>"
      ],
      "text/plain": [
       "     Unnamed: 0  rev_idrev_id  toxicity  rev_idrev_id.1  \\\n",
       "149         829     5815399.0       0.7       5815399.0   \n",
       "232        1227     8357736.0       0.3       8357736.0   \n",
       "233        1228     8359431.0       0.5       8359431.0   \n",
       "258        1348     8845700.0       1.0       8845700.0   \n",
       "288        1521     9664203.0       0.8       9664203.0   \n",
       "\n",
       "                                               comment  year  logged_in  \\\n",
       "149  NEWLINE_TOKENNEWLINE_TOKENIt was anonymous on ...  2004       True   \n",
       "232       NEWLINE_TOKENNEWLINE_TOKENYou are a child.    2004       True   \n",
       "233  `NEWLINE_TOKENNEWLINE_TOKEN::You are not worth...  2004       True   \n",
       "258  NEWLINE_TOKENNEWLINE_TOKENi am using the sandb...  2004      False   \n",
       "288  NEWLINE_TOKENNEWLINE_TOKEN== whoa ==NEWLINE_TO...  2005      False   \n",
       "\n",
       "          ns   sample split    ...      older  young  younger  teenage  \\\n",
       "149  article   random  test    ...      False  False    False    False   \n",
       "232     user  blocked  test    ...      False  False    False    False   \n",
       "233     user  blocked  test    ...      False  False    False    False   \n",
       "258     user  blocked  test    ...      False  False    False    False   \n",
       "288     user  blocked  test    ...      False  False    False    False   \n",
       "\n",
       "     millenial  middle aged  elderly  blind   deaf  paralyzed  \n",
       "149      False        False    False  False  False      False  \n",
       "232      False        False    False  False  False      False  \n",
       "233      False        False    False  False  False      False  \n",
       "258      False        False    False  False  False      False  \n",
       "288      False        False    False  False  False      False  \n",
       "\n",
       "[5 rows x 62 columns]"
      ]
     },
     "execution_count": 7,
     "metadata": {},
     "output_type": "execute_result"
    }
   ],
   "source": [
    "# This is what the predicted toxic=True test comments looks like after the prediction is done\n",
    "test_comments[test_comments['predicted'] == 1].head()"
   ]
  },
  {
   "cell_type": "code",
   "execution_count": 8,
   "metadata": {},
   "outputs": [
    {
     "name": "stdout",
     "output_type": "stream",
     "text": [
      "[0]\n",
      "[1]\n",
      "[1]\n"
     ]
    }
   ],
   "source": [
    "print(clf.predict(['Thanks for you contribution, you did a great job!']))\n",
    "# Model labels this comment as non-toxic.\n",
    "print(clf.predict(['People as stupid as you should not edit Wikipedia!']))\n",
    "# Model labels this comment as toxic.\n",
    "print(clf.predict(['I am a proud gay']))\n",
    "# Model also labels this comment as toxic. Uh-oh! We don't think this comment should be toxic!"
   ]
  }
 ],
 "metadata": {
  "kernelspec": {
   "display_name": "Python 3",
   "language": "python",
   "name": "python3"
  },
  "language_info": {
   "codemirror_mode": {
    "name": "ipython",
    "version": 3
   },
   "file_extension": ".py",
   "mimetype": "text/x-python",
   "name": "python",
   "nbconvert_exporter": "python",
   "pygments_lexer": "ipython3",
   "version": "3.6.5"
  }
 },
 "nbformat": 4,
 "nbformat_minor": 2
}
